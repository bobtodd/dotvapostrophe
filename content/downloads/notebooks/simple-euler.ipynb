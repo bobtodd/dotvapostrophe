{
 "cells": [
  {
   "cell_type": "markdown",
   "metadata": {},
   "source": [
    "# A Quick-and-Dirty Euler Method"
   ]
  },
  {
   "cell_type": "markdown",
   "metadata": {},
   "source": [
    "This post is just to ensure that everything is working for using IPython Notebooks as a means of writing blog posts with Pelican."
   ]
  },
  {
   "cell_type": "markdown",
   "metadata": {},
   "source": [
    "## Set-up"
   ]
  },
  {
   "cell_type": "markdown",
   "metadata": {},
   "source": [
    "To speed things up, we want to use NumPy.  And to plot, I'd use `matplotlib`.  But it seems that is troublesome, as ever (see [issues with virtual environments](http://matplotlib.org/faq/virtualenv_faq.html)).  So we'll use [Bokeh](http://bokeh.pydata.org/en/latest/docs/user_guide/quickstart.html) instead."
   ]
  },
  {
   "cell_type": "code",
   "execution_count": 1,
   "metadata": {
    "collapsed": false
   },
   "outputs": [],
   "source": [
    "import numpy as np\n",
    "from bokeh.plotting import figure, output_notebook, show"
   ]
  },
  {
   "cell_type": "markdown",
   "metadata": {},
   "source": [
    "## Background"
   ]
  },
  {
   "cell_type": "markdown",
   "metadata": {},
   "source": [
    "In the Euler method, we're trying to plot the solution curve $x(t)$ of the differential equation\n",
    "\n",
    "$$\\frac{dx}{dt} = f(t, x)$$\n",
    "\n",
    "given the initial condition $x(t_0) = x_0$.  Specifically, we're looking for the solution over a range of $t$-values: $[t_0, t_\\text{max}]$.  In order to accomplish this, we divide the domain $[t_0, t_\\text{max}]$ into $n$ equal-sized segments: each has *step-size* $h$ given by\n",
    "\n",
    "$$h := \\frac{t_\\text{max} - t_0}{n}.$$\n",
    "\n",
    "Given the initial condition, we then update the system by incrementing the time by $t_1 = t_0 + h$ and the position according to the following approximation:\n",
    "\n",
    "$$x_1 \\approx x_0 + dx = x_0 + dt \\cdot f(t_0, x_0).$$\n",
    "\n",
    "This comes, intuitively, from treating our original derivative $dx/dt$ as a ratio of infinitesimals.  In our current notation, $dt$ is imagined to be equal to the step-size $h$."
   ]
  },
  {
   "cell_type": "markdown",
   "metadata": {},
   "source": [
    "We encapsulate this procedure in a simple Python function that takes in the function $f$, the initial conditions, and the number $n$ of intervals as parameters."
   ]
  },
  {
   "cell_type": "code",
   "execution_count": 2,
   "metadata": {
    "collapsed": false
   },
   "outputs": [],
   "source": [
    "def Euler(f, tzero, tmax, xzero, n):\n",
    "    h = (tmax - tzero) / float(n)\n",
    "    t = np.zeros(n+1)\n",
    "    x = np.zeros(n+1)\n",
    "    \n",
    "    t[0] = tzero\n",
    "    x[0] = xzero\n",
    "    \n",
    "    for i in range(n):\n",
    "        t[i+1] = t[i] + h\n",
    "        x[i+1] = x[i] + h * f(t[i], x[i])\n",
    "    \n",
    "    return t, x"
   ]
  },
  {
   "cell_type": "markdown",
   "metadata": {},
   "source": [
    "## Test-Drive"
   ]
  },
  {
   "cell_type": "markdown",
   "metadata": {},
   "source": [
    "Now we can define a simple function as a trial.  We'll assume $f$ to be given by $f(t, x) = x$, i.e. $f$ actually discards the explicit $t$ variable and only depends implicitly on $t$ through $x(t)$."
   ]
  },
  {
   "cell_type": "code",
   "execution_count": 3,
   "metadata": {
    "collapsed": true
   },
   "outputs": [],
   "source": [
    "def linear(t, x):\n",
    "    return 2 * x"
   ]
  },
  {
   "cell_type": "code",
   "execution_count": 4,
   "metadata": {
    "collapsed": false
   },
   "outputs": [],
   "source": [
    "t, x = Euler(linear, 0, 1, 0.1, 100)"
   ]
  },
  {
   "cell_type": "code",
   "execution_count": 5,
   "metadata": {
    "collapsed": false
   },
   "outputs": [
    {
     "data": {
      "text/html": [
       "\n",
       "    <div class=\"bk-banner\">\n",
       "        <a href=\"http://bokeh.pydata.org\" target=\"_blank\" class=\"bk-logo bk-logo-small bk-logo-notebook\"></a>\n",
       "        <span id=\"00464555-9be3-4cb7-b033-e993f3e0a11e\">Loading BokehJS ...</span>\n",
       "    </div>"
      ]
     },
     "metadata": {},
     "output_type": "display_data"
    },
    {
     "data": {
      "application/javascript": [
       "\n",
       "(function(global) {\n",
       "  function now() {\n",
       "    return new Date();\n",
       "  }\n",
       "\n",
       "  if (typeof (window._bokeh_onload_callbacks) === \"undefined\") {\n",
       "    window._bokeh_onload_callbacks = [];\n",
       "  }\n",
       "\n",
       "  function run_callbacks() {\n",
       "    window._bokeh_onload_callbacks.forEach(function(callback) { callback() });\n",
       "    delete window._bokeh_onload_callbacks\n",
       "    console.info(\"Bokeh: all callbacks have finished\");\n",
       "  }\n",
       "\n",
       "  function load_libs(js_urls, callback) {\n",
       "    window._bokeh_onload_callbacks.push(callback);\n",
       "    if (window._bokeh_is_loading > 0) {\n",
       "      console.log(\"Bokeh: BokehJS is being loaded, scheduling callback at\", now());\n",
       "      return null;\n",
       "    }\n",
       "    if (js_urls == null || js_urls.length === 0) {\n",
       "      run_callbacks();\n",
       "      return null;\n",
       "    }\n",
       "    console.log(\"Bokeh: BokehJS not loaded, scheduling load and callback at\", now());\n",
       "    window._bokeh_is_loading = js_urls.length;\n",
       "    for (var i = 0; i < js_urls.length; i++) {\n",
       "      var url = js_urls[i];\n",
       "      var s = document.createElement('script');\n",
       "      s.src = url;\n",
       "      s.async = false;\n",
       "      s.onreadystatechange = s.onload = function() {\n",
       "        window._bokeh_is_loading--;\n",
       "        if (window._bokeh_is_loading === 0) {\n",
       "          console.log(\"Bokeh: all BokehJS libraries loaded\");\n",
       "          run_callbacks()\n",
       "        }\n",
       "      };\n",
       "      s.onerror = function() {\n",
       "        console.warn(\"failed to load library \" + url);\n",
       "      };\n",
       "      console.log(\"Bokeh: injecting script tag for BokehJS library: \", url);\n",
       "      document.getElementsByTagName(\"head\")[0].appendChild(s);\n",
       "    }\n",
       "  };\n",
       "\n",
       "  var js_urls = ['https://cdn.pydata.org/bokeh/release/bokeh-0.11.1.min.js', 'https://cdn.pydata.org/bokeh/release/bokeh-widgets-0.11.1.min.js', 'https://cdn.pydata.org/bokeh/release/bokeh-compiler-0.11.1.min.js'];\n",
       "\n",
       "  var inline_js = [\n",
       "    function(Bokeh) {\n",
       "      Bokeh.set_log_level(\"info\");\n",
       "    },\n",
       "    \n",
       "    function(Bokeh) {\n",
       "      Bokeh.$(\"#00464555-9be3-4cb7-b033-e993f3e0a11e\").text(\"BokehJS successfully loaded\");\n",
       "    },\n",
       "    function(Bokeh) {\n",
       "      console.log(\"Bokeh: injecting CSS: https://cdn.pydata.org/bokeh/release/bokeh-0.11.1.min.css\");\n",
       "      Bokeh.embed.inject_css(\"https://cdn.pydata.org/bokeh/release/bokeh-0.11.1.min.css\");\n",
       "      console.log(\"Bokeh: injecting CSS: https://cdn.pydata.org/bokeh/release/bokeh-widgets-0.11.1.min.css\");\n",
       "      Bokeh.embed.inject_css(\"https://cdn.pydata.org/bokeh/release/bokeh-widgets-0.11.1.min.css\");\n",
       "    }\n",
       "  ];\n",
       "\n",
       "  function run_inline_js() {\n",
       "    for (var i = 0; i < inline_js.length; i++) {\n",
       "      inline_js[i](window.Bokeh);\n",
       "    }\n",
       "  }\n",
       "\n",
       "  if (window._bokeh_is_loading === 0) {\n",
       "    console.log(\"Bokeh: BokehJS loaded, going straight to plotting\");\n",
       "    run_inline_js();\n",
       "  } else {\n",
       "    load_libs(js_urls, function() {\n",
       "      console.log(\"Bokeh: BokehJS plotting callback run at\", now());\n",
       "      run_inline_js();\n",
       "    });\n",
       "  }\n",
       "}(this));"
      ]
     },
     "metadata": {},
     "output_type": "display_data"
    },
    {
     "data": {
      "text/html": [
       "\n",
       "\n",
       "    <div class=\"plotdiv\" id=\"68485908-0f7b-44be-a319-06ddd158a95b\"></div>\n",
       "<script type=\"text/javascript\">\n",
       "  \n",
       "  (function(global) {\n",
       "    function now() {\n",
       "      return new Date();\n",
       "    }\n",
       "  \n",
       "    if (typeof (window._bokeh_onload_callbacks) === \"undefined\") {\n",
       "      window._bokeh_onload_callbacks = [];\n",
       "    }\n",
       "  \n",
       "    function run_callbacks() {\n",
       "      window._bokeh_onload_callbacks.forEach(function(callback) { callback() });\n",
       "      delete window._bokeh_onload_callbacks\n",
       "      console.info(\"Bokeh: all callbacks have finished\");\n",
       "    }\n",
       "  \n",
       "    function load_libs(js_urls, callback) {\n",
       "      window._bokeh_onload_callbacks.push(callback);\n",
       "      if (window._bokeh_is_loading > 0) {\n",
       "        console.log(\"Bokeh: BokehJS is being loaded, scheduling callback at\", now());\n",
       "        return null;\n",
       "      }\n",
       "      if (js_urls == null || js_urls.length === 0) {\n",
       "        run_callbacks();\n",
       "        return null;\n",
       "      }\n",
       "      console.log(\"Bokeh: BokehJS not loaded, scheduling load and callback at\", now());\n",
       "      window._bokeh_is_loading = js_urls.length;\n",
       "      for (var i = 0; i < js_urls.length; i++) {\n",
       "        var url = js_urls[i];\n",
       "        var s = document.createElement('script');\n",
       "        s.src = url;\n",
       "        s.async = false;\n",
       "        s.onreadystatechange = s.onload = function() {\n",
       "          window._bokeh_is_loading--;\n",
       "          if (window._bokeh_is_loading === 0) {\n",
       "            console.log(\"Bokeh: all BokehJS libraries loaded\");\n",
       "            run_callbacks()\n",
       "          }\n",
       "        };\n",
       "        s.onerror = function() {\n",
       "          console.warn(\"failed to load library \" + url);\n",
       "        };\n",
       "        console.log(\"Bokeh: injecting script tag for BokehJS library: \", url);\n",
       "        document.getElementsByTagName(\"head\")[0].appendChild(s);\n",
       "      }\n",
       "    };var element = document.getElementById(\"68485908-0f7b-44be-a319-06ddd158a95b\");\n",
       "    if (element == null) {\n",
       "      console.log(\"Bokeh: ERROR: autoload.js configured with elementid '68485908-0f7b-44be-a319-06ddd158a95b' but no matching script tag was found. \")\n",
       "      return false;\n",
       "    }\n",
       "  \n",
       "    var js_urls = [];\n",
       "  \n",
       "    var inline_js = [\n",
       "      function(Bokeh) {\n",
       "        Bokeh.$(function() {\n",
       "            var docs_json = {\"966da635-4dcc-4c9b-bb29-e9823b3d53b9\":{\"roots\":{\"references\":[{\"attributes\":{\"overlay\":{\"id\":\"94bbd05f-3924-457e-812e-c19966ec5487\",\"type\":\"BoxAnnotation\"},\"plot\":{\"id\":\"0d7f0f7e-069b-49de-8425-6f104af71d2b\",\"subtype\":\"Figure\",\"type\":\"Plot\"}},\"id\":\"d8b97f85-a2a0-4f1a-aadc-e14776838bdd\",\"type\":\"BoxZoomTool\"},{\"attributes\":{\"plot\":{\"id\":\"0d7f0f7e-069b-49de-8425-6f104af71d2b\",\"subtype\":\"Figure\",\"type\":\"Plot\"}},\"id\":\"c481148f-dd38-40b9-9be0-514df979feab\",\"type\":\"ResizeTool\"},{\"attributes\":{\"data_source\":{\"id\":\"8efdaa0a-5dc8-4ca8-98ec-096b6f1ec3b0\",\"type\":\"ColumnDataSource\"},\"glyph\":{\"id\":\"f5939506-3f15-46b7-a087-62f73862db4e\",\"type\":\"Line\"},\"hover_glyph\":null,\"nonselection_glyph\":{\"id\":\"035e5219-083d-4879-ad27-c55f5a582fdc\",\"type\":\"Line\"},\"selection_glyph\":null},\"id\":\"267a60a2-83d0-47b8-8f55-22317239eca9\",\"type\":\"GlyphRenderer\"},{\"attributes\":{\"plot\":{\"id\":\"0d7f0f7e-069b-49de-8425-6f104af71d2b\",\"subtype\":\"Figure\",\"type\":\"Plot\"}},\"id\":\"c4ef8f5e-ccdc-411a-ab62-4982fe6289e0\",\"type\":\"ResetTool\"},{\"attributes\":{\"callback\":null},\"id\":\"747e88a3-68aa-4ff6-ac7f-e134b31b3842\",\"type\":\"DataRange1d\"},{\"attributes\":{},\"id\":\"15016458-b23b-428b-96ac-2c6fcaa6c252\",\"type\":\"ToolEvents\"},{\"attributes\":{\"callback\":null,\"column_names\":[\"x\",\"y\"],\"data\":{\"x\":[0.0,0.01,0.02,0.03,0.04,0.05,0.060000000000000005,0.07,0.08,0.09,0.09999999999999999,0.10999999999999999,0.11999999999999998,0.12999999999999998,0.13999999999999999,0.15,0.16,0.17,0.18000000000000002,0.19000000000000003,0.20000000000000004,0.21000000000000005,0.22000000000000006,0.23000000000000007,0.24000000000000007,0.25000000000000006,0.26000000000000006,0.2700000000000001,0.2800000000000001,0.2900000000000001,0.3000000000000001,0.3100000000000001,0.3200000000000001,0.3300000000000001,0.34000000000000014,0.35000000000000014,0.36000000000000015,0.37000000000000016,0.38000000000000017,0.3900000000000002,0.4000000000000002,0.4100000000000002,0.4200000000000002,0.4300000000000002,0.4400000000000002,0.45000000000000023,0.46000000000000024,0.47000000000000025,0.48000000000000026,0.49000000000000027,0.5000000000000002,0.5100000000000002,0.5200000000000002,0.5300000000000002,0.5400000000000003,0.5500000000000003,0.5600000000000003,0.5700000000000003,0.5800000000000003,0.5900000000000003,0.6000000000000003,0.6100000000000003,0.6200000000000003,0.6300000000000003,0.6400000000000003,0.6500000000000004,0.6600000000000004,0.6700000000000004,0.6800000000000004,0.6900000000000004,0.7000000000000004,0.7100000000000004,0.7200000000000004,0.7300000000000004,0.7400000000000004,0.7500000000000004,0.7600000000000005,0.7700000000000005,0.7800000000000005,0.7900000000000005,0.8000000000000005,0.8100000000000005,0.8200000000000005,0.8300000000000005,0.8400000000000005,0.8500000000000005,0.8600000000000005,0.8700000000000006,0.8800000000000006,0.8900000000000006,0.9000000000000006,0.9100000000000006,0.9200000000000006,0.9300000000000006,0.9400000000000006,0.9500000000000006,0.9600000000000006,0.9700000000000006,0.9800000000000006,0.9900000000000007,1.0000000000000007],\"y\":[0.1,0.10200000000000001,0.10404000000000001,0.1061208,0.108243216,0.11040808032,0.1126162419264,0.114868566764928,0.11716593810022656,0.11950925686223109,0.12189944199947571,0.12433743083946522,0.12682417945625452,0.1293606630453796,0.13194787630628718,0.13458683383241293,0.1372785705090612,0.14002414191924242,0.14282462475762728,0.14568111725277982,0.14859473959783542,0.15156663438979212,0.15459796707758797,0.15768992641913973,0.16084372494752253,0.16406059944647297,0.16734181143540244,0.1706886476641105,0.1741024206173927,0.17758446902974057,0.18113615841033537,0.1847588815785421,0.18845405921011293,0.1922231403943152,0.1960676032022015,0.19998895526624555,0.20398873437157047,0.20806850905900187,0.2122298792401819,0.21647447682498555,0.22080396636148525,0.22522004568871495,0.22972444660248925,0.23431893553453903,0.2390053142452298,0.2437854205301344,0.2486611289407371,0.2536343515195518,0.25870703854994287,0.26388117932094174,0.26915880290736055,0.27454197896550775,0.28003281854481793,0.2856334749157143,0.29134614441402856,0.29717306730230914,0.3031165286483553,0.30917885922132243,0.3153624364057489,0.3216696851338639,0.32810307883654116,0.334665140413272,0.34135844322153747,0.3481856120859682,0.3551493243276876,0.36225231081424136,0.36949735703052616,0.3768873041711367,0.3844250502545594,0.3921135512596506,0.3999558222848436,0.4079549387305405,0.4161140375051513,0.42443631825525435,0.4329250446203594,0.4415835455127666,0.4504152164230219,0.45942352075148235,0.468611991166512,0.4779842309898422,0.48754391560963906,0.49729479392183185,0.5072406898002685,0.5173855035962739,0.5277332136681994,0.5382878779415633,0.5490536355003945,0.5600347082104025,0.5712354023746106,0.5826601104221028,0.5943133126305448,0.6061995788831557,0.6183235704608188,0.6306900418700352,0.6433038427074359,0.6561699195615847,0.6692933179528163,0.6826791843118727,0.6963327679981102,0.7102594233580724,0.7244646118252338]}},\"id\":\"8efdaa0a-5dc8-4ca8-98ec-096b6f1ec3b0\",\"type\":\"ColumnDataSource\"},{\"attributes\":{\"below\":[{\"id\":\"8d1cc98c-9e8f-49da-95b2-350b761a9241\",\"type\":\"LinearAxis\"}],\"left\":[{\"id\":\"7646beb9-055f-4013-834e-5458f603b977\",\"type\":\"LinearAxis\"}],\"renderers\":[{\"id\":\"8d1cc98c-9e8f-49da-95b2-350b761a9241\",\"type\":\"LinearAxis\"},{\"id\":\"1258ed16-8ded-41be-9554-7d13795d3ca3\",\"type\":\"Grid\"},{\"id\":\"7646beb9-055f-4013-834e-5458f603b977\",\"type\":\"LinearAxis\"},{\"id\":\"6ee74d65-b518-4cb1-afa2-0b9969512379\",\"type\":\"Grid\"},{\"id\":\"94bbd05f-3924-457e-812e-c19966ec5487\",\"type\":\"BoxAnnotation\"},{\"id\":\"c66399d6-18f9-42aa-a04c-46df798c6410\",\"type\":\"Legend\"},{\"id\":\"267a60a2-83d0-47b8-8f55-22317239eca9\",\"type\":\"GlyphRenderer\"}],\"title\":\"Euler method for Linear Derivative\",\"tool_events\":{\"id\":\"15016458-b23b-428b-96ac-2c6fcaa6c252\",\"type\":\"ToolEvents\"},\"tools\":[{\"id\":\"e8bc0383-ddfb-498a-bf52-79fa16936708\",\"type\":\"PanTool\"},{\"id\":\"e8fa0239-3141-49de-a66c-bbae9a97acdc\",\"type\":\"WheelZoomTool\"},{\"id\":\"d8b97f85-a2a0-4f1a-aadc-e14776838bdd\",\"type\":\"BoxZoomTool\"},{\"id\":\"5472e678-38d3-4f6f-a027-498b044ab8a0\",\"type\":\"PreviewSaveTool\"},{\"id\":\"c481148f-dd38-40b9-9be0-514df979feab\",\"type\":\"ResizeTool\"},{\"id\":\"c4ef8f5e-ccdc-411a-ab62-4982fe6289e0\",\"type\":\"ResetTool\"},{\"id\":\"9610167e-0ff4-4b13-b6e4-0056d753d6c2\",\"type\":\"HelpTool\"}],\"x_range\":{\"id\":\"747e88a3-68aa-4ff6-ac7f-e134b31b3842\",\"type\":\"DataRange1d\"},\"y_range\":{\"id\":\"64e4066a-43a6-452f-a570-cdd67d031ebc\",\"type\":\"DataRange1d\"}},\"id\":\"0d7f0f7e-069b-49de-8425-6f104af71d2b\",\"subtype\":\"Figure\",\"type\":\"Plot\"},{\"attributes\":{\"line_alpha\":{\"value\":0.1},\"line_color\":{\"value\":\"#1f77b4\"},\"line_width\":{\"value\":2},\"x\":{\"field\":\"x\"},\"y\":{\"field\":\"y\"}},\"id\":\"035e5219-083d-4879-ad27-c55f5a582fdc\",\"type\":\"Line\"},{\"attributes\":{\"plot\":{\"id\":\"0d7f0f7e-069b-49de-8425-6f104af71d2b\",\"subtype\":\"Figure\",\"type\":\"Plot\"},\"ticker\":{\"id\":\"5890d742-23b3-4fee-8b6b-e326f9704629\",\"type\":\"BasicTicker\"}},\"id\":\"1258ed16-8ded-41be-9554-7d13795d3ca3\",\"type\":\"Grid\"},{\"attributes\":{},\"id\":\"71950f8b-f995-41c5-bbb6-1234e5668656\",\"type\":\"BasicTickFormatter\"},{\"attributes\":{\"legends\":[[\"Trajectory\",[{\"id\":\"267a60a2-83d0-47b8-8f55-22317239eca9\",\"type\":\"GlyphRenderer\"}]]],\"plot\":{\"id\":\"0d7f0f7e-069b-49de-8425-6f104af71d2b\",\"subtype\":\"Figure\",\"type\":\"Plot\"}},\"id\":\"c66399d6-18f9-42aa-a04c-46df798c6410\",\"type\":\"Legend\"},{\"attributes\":{\"callback\":null},\"id\":\"64e4066a-43a6-452f-a570-cdd67d031ebc\",\"type\":\"DataRange1d\"},{\"attributes\":{},\"id\":\"091f08d4-3e33-4042-908b-f2d82719e68e\",\"type\":\"BasicTickFormatter\"},{\"attributes\":{\"plot\":{\"id\":\"0d7f0f7e-069b-49de-8425-6f104af71d2b\",\"subtype\":\"Figure\",\"type\":\"Plot\"}},\"id\":\"e8bc0383-ddfb-498a-bf52-79fa16936708\",\"type\":\"PanTool\"},{\"attributes\":{},\"id\":\"5890d742-23b3-4fee-8b6b-e326f9704629\",\"type\":\"BasicTicker\"},{\"attributes\":{\"axis_label\":\"x\",\"formatter\":{\"id\":\"71950f8b-f995-41c5-bbb6-1234e5668656\",\"type\":\"BasicTickFormatter\"},\"plot\":{\"id\":\"0d7f0f7e-069b-49de-8425-6f104af71d2b\",\"subtype\":\"Figure\",\"type\":\"Plot\"},\"ticker\":{\"id\":\"43ed50a3-0721-4f06-b194-cbf0bd22796b\",\"type\":\"BasicTicker\"}},\"id\":\"7646beb9-055f-4013-834e-5458f603b977\",\"type\":\"LinearAxis\"},{\"attributes\":{\"line_color\":{\"value\":\"#1f77b4\"},\"line_width\":{\"value\":2},\"x\":{\"field\":\"x\"},\"y\":{\"field\":\"y\"}},\"id\":\"f5939506-3f15-46b7-a087-62f73862db4e\",\"type\":\"Line\"},{\"attributes\":{},\"id\":\"43ed50a3-0721-4f06-b194-cbf0bd22796b\",\"type\":\"BasicTicker\"},{\"attributes\":{\"plot\":{\"id\":\"0d7f0f7e-069b-49de-8425-6f104af71d2b\",\"subtype\":\"Figure\",\"type\":\"Plot\"}},\"id\":\"5472e678-38d3-4f6f-a027-498b044ab8a0\",\"type\":\"PreviewSaveTool\"},{\"attributes\":{\"axis_label\":\"t\",\"formatter\":{\"id\":\"091f08d4-3e33-4042-908b-f2d82719e68e\",\"type\":\"BasicTickFormatter\"},\"plot\":{\"id\":\"0d7f0f7e-069b-49de-8425-6f104af71d2b\",\"subtype\":\"Figure\",\"type\":\"Plot\"},\"ticker\":{\"id\":\"5890d742-23b3-4fee-8b6b-e326f9704629\",\"type\":\"BasicTicker\"}},\"id\":\"8d1cc98c-9e8f-49da-95b2-350b761a9241\",\"type\":\"LinearAxis\"},{\"attributes\":{\"dimension\":1,\"plot\":{\"id\":\"0d7f0f7e-069b-49de-8425-6f104af71d2b\",\"subtype\":\"Figure\",\"type\":\"Plot\"},\"ticker\":{\"id\":\"43ed50a3-0721-4f06-b194-cbf0bd22796b\",\"type\":\"BasicTicker\"}},\"id\":\"6ee74d65-b518-4cb1-afa2-0b9969512379\",\"type\":\"Grid\"},{\"attributes\":{\"plot\":{\"id\":\"0d7f0f7e-069b-49de-8425-6f104af71d2b\",\"subtype\":\"Figure\",\"type\":\"Plot\"}},\"id\":\"e8fa0239-3141-49de-a66c-bbae9a97acdc\",\"type\":\"WheelZoomTool\"},{\"attributes\":{\"plot\":{\"id\":\"0d7f0f7e-069b-49de-8425-6f104af71d2b\",\"subtype\":\"Figure\",\"type\":\"Plot\"}},\"id\":\"9610167e-0ff4-4b13-b6e4-0056d753d6c2\",\"type\":\"HelpTool\"},{\"attributes\":{\"bottom_units\":\"screen\",\"fill_alpha\":{\"value\":0.5},\"fill_color\":{\"value\":\"lightgrey\"},\"left_units\":\"screen\",\"level\":\"overlay\",\"line_alpha\":{\"value\":1.0},\"line_color\":{\"value\":\"black\"},\"line_dash\":[4,4],\"line_width\":{\"value\":2},\"plot\":null,\"render_mode\":\"css\",\"right_units\":\"screen\",\"top_units\":\"screen\"},\"id\":\"94bbd05f-3924-457e-812e-c19966ec5487\",\"type\":\"BoxAnnotation\"}],\"root_ids\":[\"0d7f0f7e-069b-49de-8425-6f104af71d2b\"]},\"title\":\"Bokeh Application\",\"version\":\"0.11.1\"}};\n",
       "            var render_items = [{\"docid\":\"966da635-4dcc-4c9b-bb29-e9823b3d53b9\",\"elementid\":\"68485908-0f7b-44be-a319-06ddd158a95b\",\"modelid\":\"0d7f0f7e-069b-49de-8425-6f104af71d2b\",\"notebook_comms_target\":\"e3772fdb-45aa-4159-8c48-93d90353dc53\"}];\n",
       "            \n",
       "            Bokeh.embed.embed_items(docs_json, render_items);\n",
       "        });\n",
       "      },\n",
       "      function(Bokeh) {\n",
       "      }\n",
       "    ];\n",
       "  \n",
       "    function run_inline_js() {\n",
       "      for (var i = 0; i < inline_js.length; i++) {\n",
       "        inline_js[i](window.Bokeh);\n",
       "      }\n",
       "    }\n",
       "  \n",
       "    if (window._bokeh_is_loading === 0) {\n",
       "      console.log(\"Bokeh: BokehJS loaded, going straight to plotting\");\n",
       "      run_inline_js();\n",
       "    } else {\n",
       "      load_libs(js_urls, function() {\n",
       "        console.log(\"Bokeh: BokehJS plotting callback run at\", now());\n",
       "        run_inline_js();\n",
       "      });\n",
       "    }\n",
       "  }(this));\n",
       "</script>"
      ]
     },
     "metadata": {},
     "output_type": "display_data"
    },
    {
     "data": {
      "text/html": [
       "<p><code>&lt;Bokeh Notebook handle for <strong>In[5]</strong>&gt;</code></p>"
      ],
      "text/plain": [
       "<bokeh.io._CommsHandle at 0x108f629e8>"
      ]
     },
     "execution_count": 5,
     "metadata": {},
     "output_type": "execute_result"
    }
   ],
   "source": [
    "output_notebook()\n",
    "p = figure(title=\"Euler method for Linear Derivative\", x_axis_label='t', y_axis_label='x')\n",
    "p.line(t, x, legend=\"Trajectory\", line_width=2)\n",
    "show(p)"
   ]
  },
  {
   "cell_type": "markdown",
   "metadata": {},
   "source": [
    "We could also try this with a sinusoidal function.  Suppose we wanted to solve\n",
    "\n",
    "$$\\frac{dx}{dt} = \\sin(t).$$\n",
    "\n",
    "Note this time that the derivative depends only on time, not on position.  This would look as follows."
   ]
  },
  {
   "cell_type": "code",
   "execution_count": 6,
   "metadata": {
    "collapsed": true
   },
   "outputs": [],
   "source": [
    "def sinusoid(t, x):\n",
    "    return np.sin(t)"
   ]
  },
  {
   "cell_type": "code",
   "execution_count": 7,
   "metadata": {
    "collapsed": false
   },
   "outputs": [],
   "source": [
    "t, x = Euler(sinusoid, 0, 20, 0.1, 1000)"
   ]
  },
  {
   "cell_type": "code",
   "execution_count": 8,
   "metadata": {
    "collapsed": false
   },
   "outputs": [
    {
     "data": {
      "text/html": [
       "\n",
       "    <div class=\"bk-banner\">\n",
       "        <a href=\"http://bokeh.pydata.org\" target=\"_blank\" class=\"bk-logo bk-logo-small bk-logo-notebook\"></a>\n",
       "        <span id=\"1bcb95c1-184d-47c8-a333-d697a4f43be6\">Loading BokehJS ...</span>\n",
       "    </div>"
      ]
     },
     "metadata": {},
     "output_type": "display_data"
    },
    {
     "data": {
      "application/javascript": [
       "\n",
       "(function(global) {\n",
       "  function now() {\n",
       "    return new Date();\n",
       "  }\n",
       "\n",
       "  if (typeof (window._bokeh_onload_callbacks) === \"undefined\") {\n",
       "    window._bokeh_onload_callbacks = [];\n",
       "  }\n",
       "\n",
       "  function run_callbacks() {\n",
       "    window._bokeh_onload_callbacks.forEach(function(callback) { callback() });\n",
       "    delete window._bokeh_onload_callbacks\n",
       "    console.info(\"Bokeh: all callbacks have finished\");\n",
       "  }\n",
       "\n",
       "  function load_libs(js_urls, callback) {\n",
       "    window._bokeh_onload_callbacks.push(callback);\n",
       "    if (window._bokeh_is_loading > 0) {\n",
       "      console.log(\"Bokeh: BokehJS is being loaded, scheduling callback at\", now());\n",
       "      return null;\n",
       "    }\n",
       "    if (js_urls == null || js_urls.length === 0) {\n",
       "      run_callbacks();\n",
       "      return null;\n",
       "    }\n",
       "    console.log(\"Bokeh: BokehJS not loaded, scheduling load and callback at\", now());\n",
       "    window._bokeh_is_loading = js_urls.length;\n",
       "    for (var i = 0; i < js_urls.length; i++) {\n",
       "      var url = js_urls[i];\n",
       "      var s = document.createElement('script');\n",
       "      s.src = url;\n",
       "      s.async = false;\n",
       "      s.onreadystatechange = s.onload = function() {\n",
       "        window._bokeh_is_loading--;\n",
       "        if (window._bokeh_is_loading === 0) {\n",
       "          console.log(\"Bokeh: all BokehJS libraries loaded\");\n",
       "          run_callbacks()\n",
       "        }\n",
       "      };\n",
       "      s.onerror = function() {\n",
       "        console.warn(\"failed to load library \" + url);\n",
       "      };\n",
       "      console.log(\"Bokeh: injecting script tag for BokehJS library: \", url);\n",
       "      document.getElementsByTagName(\"head\")[0].appendChild(s);\n",
       "    }\n",
       "  };\n",
       "\n",
       "  var js_urls = ['https://cdn.pydata.org/bokeh/release/bokeh-0.11.1.min.js', 'https://cdn.pydata.org/bokeh/release/bokeh-widgets-0.11.1.min.js', 'https://cdn.pydata.org/bokeh/release/bokeh-compiler-0.11.1.min.js'];\n",
       "\n",
       "  var inline_js = [\n",
       "    function(Bokeh) {\n",
       "      Bokeh.set_log_level(\"info\");\n",
       "    },\n",
       "    \n",
       "    function(Bokeh) {\n",
       "      Bokeh.$(\"#1bcb95c1-184d-47c8-a333-d697a4f43be6\").text(\"BokehJS successfully loaded\");\n",
       "    },\n",
       "    function(Bokeh) {\n",
       "      console.log(\"Bokeh: injecting CSS: https://cdn.pydata.org/bokeh/release/bokeh-0.11.1.min.css\");\n",
       "      Bokeh.embed.inject_css(\"https://cdn.pydata.org/bokeh/release/bokeh-0.11.1.min.css\");\n",
       "      console.log(\"Bokeh: injecting CSS: https://cdn.pydata.org/bokeh/release/bokeh-widgets-0.11.1.min.css\");\n",
       "      Bokeh.embed.inject_css(\"https://cdn.pydata.org/bokeh/release/bokeh-widgets-0.11.1.min.css\");\n",
       "    }\n",
       "  ];\n",
       "\n",
       "  function run_inline_js() {\n",
       "    for (var i = 0; i < inline_js.length; i++) {\n",
       "      inline_js[i](window.Bokeh);\n",
       "    }\n",
       "  }\n",
       "\n",
       "  if (window._bokeh_is_loading === 0) {\n",
       "    console.log(\"Bokeh: BokehJS loaded, going straight to plotting\");\n",
       "    run_inline_js();\n",
       "  } else {\n",
       "    load_libs(js_urls, function() {\n",
       "      console.log(\"Bokeh: BokehJS plotting callback run at\", now());\n",
       "      run_inline_js();\n",
       "    });\n",
       "  }\n",
       "}(this));"
      ]
     },
     "metadata": {},
     "output_type": "display_data"
    },
    {
     "data": {
      "text/html": [
       "\n",
       "\n",
       "    <div class=\"plotdiv\" id=\"6a43cdce-2195-4ec8-b796-3e00e6d78cfc\"></div>\n",
       "<script type=\"text/javascript\">\n",
       "  \n",
       "  (function(global) {\n",
       "    function now() {\n",
       "      return new Date();\n",
       "    }\n",
       "  \n",
       "    if (typeof (window._bokeh_onload_callbacks) === \"undefined\") {\n",
       "      window._bokeh_onload_callbacks = [];\n",
       "    }\n",
       "  \n",
       "    function run_callbacks() {\n",
       "      window._bokeh_onload_callbacks.forEach(function(callback) { callback() });\n",
       "      delete window._bokeh_onload_callbacks\n",
       "      console.info(\"Bokeh: all callbacks have finished\");\n",
       "    }\n",
       "  \n",
       "    function load_libs(js_urls, callback) {\n",
       "      window._bokeh_onload_callbacks.push(callback);\n",
       "      if (window._bokeh_is_loading > 0) {\n",
       "        console.log(\"Bokeh: BokehJS is being loaded, scheduling callback at\", now());\n",
       "        return null;\n",
       "      }\n",
       "      if (js_urls == null || js_urls.length === 0) {\n",
       "        run_callbacks();\n",
       "        return null;\n",
       "      }\n",
       "      console.log(\"Bokeh: BokehJS not loaded, scheduling load and callback at\", now());\n",
       "      window._bokeh_is_loading = js_urls.length;\n",
       "      for (var i = 0; i < js_urls.length; i++) {\n",
       "        var url = js_urls[i];\n",
       "        var s = document.createElement('script');\n",
       "        s.src = url;\n",
       "        s.async = false;\n",
       "        s.onreadystatechange = s.onload = function() {\n",
       "          window._bokeh_is_loading--;\n",
       "          if (window._bokeh_is_loading === 0) {\n",
       "            console.log(\"Bokeh: all BokehJS libraries loaded\");\n",
       "            run_callbacks()\n",
       "          }\n",
       "        };\n",
       "        s.onerror = function() {\n",
       "          console.warn(\"failed to load library \" + url);\n",
       "        };\n",
       "        console.log(\"Bokeh: injecting script tag for BokehJS library: \", url);\n",
       "        document.getElementsByTagName(\"head\")[0].appendChild(s);\n",
       "      }\n",
       "    };var element = document.getElementById(\"6a43cdce-2195-4ec8-b796-3e00e6d78cfc\");\n",
       "    if (element == null) {\n",
       "      console.log(\"Bokeh: ERROR: autoload.js configured with elementid '6a43cdce-2195-4ec8-b796-3e00e6d78cfc' but no matching script tag was found. \")\n",
       "      return false;\n",
       "    }\n",
       "  \n",
       "    var js_urls = [];\n",
       "  \n",
       "    var inline_js = [\n",
       "      function(Bokeh) {\n",
       "        Bokeh.$(function() {\n",
       "            var docs_json = {\"afb9f501-c7c7-4592-a968-1c6b1bd5f265\":{\"roots\":{\"references\":[{\"attributes\":{},\"id\":\"f36b7a61-ccbe-4b6d-8e72-678e9a8b0b63\",\"type\":\"BasicTicker\"},{\"attributes\":{\"overlay\":{\"id\":\"94bbd05f-3924-457e-812e-c19966ec5487\",\"type\":\"BoxAnnotation\"},\"plot\":{\"id\":\"0d7f0f7e-069b-49de-8425-6f104af71d2b\",\"subtype\":\"Figure\",\"type\":\"Plot\"}},\"id\":\"d8b97f85-a2a0-4f1a-aadc-e14776838bdd\",\"type\":\"BoxZoomTool\"},{\"attributes\":{\"below\":[{\"id\":\"8d1cc98c-9e8f-49da-95b2-350b761a9241\",\"type\":\"LinearAxis\"}],\"left\":[{\"id\":\"7646beb9-055f-4013-834e-5458f603b977\",\"type\":\"LinearAxis\"}],\"renderers\":[{\"id\":\"8d1cc98c-9e8f-49da-95b2-350b761a9241\",\"type\":\"LinearAxis\"},{\"id\":\"1258ed16-8ded-41be-9554-7d13795d3ca3\",\"type\":\"Grid\"},{\"id\":\"7646beb9-055f-4013-834e-5458f603b977\",\"type\":\"LinearAxis\"},{\"id\":\"6ee74d65-b518-4cb1-afa2-0b9969512379\",\"type\":\"Grid\"},{\"id\":\"94bbd05f-3924-457e-812e-c19966ec5487\",\"type\":\"BoxAnnotation\"},{\"id\":\"c66399d6-18f9-42aa-a04c-46df798c6410\",\"type\":\"Legend\"},{\"id\":\"267a60a2-83d0-47b8-8f55-22317239eca9\",\"type\":\"GlyphRenderer\"}],\"title\":\"Euler method for Linear Derivative\",\"tool_events\":{\"id\":\"15016458-b23b-428b-96ac-2c6fcaa6c252\",\"type\":\"ToolEvents\"},\"tools\":[{\"id\":\"e8bc0383-ddfb-498a-bf52-79fa16936708\",\"type\":\"PanTool\"},{\"id\":\"e8fa0239-3141-49de-a66c-bbae9a97acdc\",\"type\":\"WheelZoomTool\"},{\"id\":\"d8b97f85-a2a0-4f1a-aadc-e14776838bdd\",\"type\":\"BoxZoomTool\"},{\"id\":\"5472e678-38d3-4f6f-a027-498b044ab8a0\",\"type\":\"PreviewSaveTool\"},{\"id\":\"c481148f-dd38-40b9-9be0-514df979feab\",\"type\":\"ResizeTool\"},{\"id\":\"c4ef8f5e-ccdc-411a-ab62-4982fe6289e0\",\"type\":\"ResetTool\"},{\"id\":\"9610167e-0ff4-4b13-b6e4-0056d753d6c2\",\"type\":\"HelpTool\"}],\"x_range\":{\"id\":\"747e88a3-68aa-4ff6-ac7f-e134b31b3842\",\"type\":\"DataRange1d\"},\"y_range\":{\"id\":\"64e4066a-43a6-452f-a570-cdd67d031ebc\",\"type\":\"DataRange1d\"}},\"id\":\"0d7f0f7e-069b-49de-8425-6f104af71d2b\",\"subtype\":\"Figure\",\"type\":\"Plot\"},{\"attributes\":{\"callback\":null,\"column_names\":[\"x\",\"y\"],\"data\":{\"x\":[0.0,0.02,0.04,0.06,0.08,0.1,0.12000000000000001,0.14,0.16,0.18,0.19999999999999998,0.21999999999999997,0.23999999999999996,0.25999999999999995,0.27999999999999997,0.3,0.32,0.34,0.36000000000000004,0.38000000000000006,0.4000000000000001,0.4200000000000001,0.4400000000000001,0.46000000000000013,0.48000000000000015,0.5000000000000001,0.5200000000000001,0.5400000000000001,0.5600000000000002,0.5800000000000002,0.6000000000000002,0.6200000000000002,0.6400000000000002,0.6600000000000003,0.6800000000000003,0.7000000000000003,0.7200000000000003,0.7400000000000003,0.7600000000000003,0.7800000000000004,0.8000000000000004,0.8200000000000004,0.8400000000000004,0.8600000000000004,0.8800000000000004,0.9000000000000005,0.9200000000000005,0.9400000000000005,0.9600000000000005,0.9800000000000005,1.0000000000000004,1.0200000000000005,1.0400000000000005,1.0600000000000005,1.0800000000000005,1.1000000000000005,1.1200000000000006,1.1400000000000006,1.1600000000000006,1.1800000000000006,1.2000000000000006,1.2200000000000006,1.2400000000000007,1.2600000000000007,1.2800000000000007,1.3000000000000007,1.3200000000000007,1.3400000000000007,1.3600000000000008,1.3800000000000008,1.4000000000000008,1.4200000000000008,1.4400000000000008,1.4600000000000009,1.4800000000000009,1.5000000000000009,1.520000000000001,1.540000000000001,1.560000000000001,1.580000000000001,1.600000000000001,1.620000000000001,1.640000000000001,1.660000000000001,1.680000000000001,1.700000000000001,1.720000000000001,1.740000000000001,1.7600000000000011,1.7800000000000011,1.8000000000000012,1.8200000000000012,1.8400000000000012,1.8600000000000012,1.8800000000000012,1.9000000000000012,1.9200000000000013,1.9400000000000013,1.9600000000000013,1.9800000000000013,2.0000000000000013,2.0200000000000014,2.0400000000000014,2.0600000000000014,2.0800000000000014,2.1000000000000014,2.1200000000000014,2.1400000000000015,2.1600000000000015,2.1800000000000015,2.2000000000000015,2.2200000000000015,2.2400000000000015,2.2600000000000016,2.2800000000000016,2.3000000000000016,2.3200000000000016,2.3400000000000016,2.3600000000000017,2.3800000000000017,2.4000000000000017,2.4200000000000017,2.4400000000000017,2.4600000000000017,2.4800000000000018,2.5000000000000018,2.520000000000002,2.540000000000002,2.560000000000002,2.580000000000002,2.600000000000002,2.620000000000002,2.640000000000002,2.660000000000002,2.680000000000002,2.700000000000002,2.720000000000002,2.740000000000002,2.760000000000002,2.780000000000002,2.800000000000002,2.820000000000002,2.840000000000002,2.860000000000002,2.880000000000002,2.900000000000002,2.920000000000002,2.940000000000002,2.960000000000002,2.980000000000002,3.000000000000002,3.0200000000000022,3.0400000000000023,3.0600000000000023,3.0800000000000023,3.1000000000000023,3.1200000000000023,3.1400000000000023,3.1600000000000024,3.1800000000000024,3.2000000000000024,3.2200000000000024,3.2400000000000024,3.2600000000000025,3.2800000000000025,3.3000000000000025,3.3200000000000025,3.3400000000000025,3.3600000000000025,3.3800000000000026,3.4000000000000026,3.4200000000000026,3.4400000000000026,3.4600000000000026,3.4800000000000026,3.5000000000000027,3.5200000000000027,3.5400000000000027,3.5600000000000027,3.5800000000000027,3.6000000000000028,3.6200000000000028,3.640000000000003,3.660000000000003,3.680000000000003,3.700000000000003,3.720000000000003,3.740000000000003,3.760000000000003,3.780000000000003,3.800000000000003,3.820000000000003,3.840000000000003,3.860000000000003,3.880000000000003,3.900000000000003,3.920000000000003,3.940000000000003,3.960000000000003,3.980000000000003,4.000000000000003,4.020000000000002,4.040000000000002,4.060000000000001,4.080000000000001,4.1000000000000005,4.12,4.14,4.159999999999999,4.179999999999999,4.199999999999998,4.219999999999998,4.2399999999999975,4.259999999999997,4.279999999999997,4.299999999999996,4.319999999999996,4.339999999999995,4.359999999999995,4.379999999999995,4.399999999999994,4.419999999999994,4.439999999999993,4.459999999999993,4.479999999999992,4.499999999999992,4.519999999999992,4.539999999999991,4.559999999999991,4.57999999999999,4.59999999999999,4.6199999999999894,4.639999999999989,4.659999999999989,4.679999999999988,4.699999999999988,4.719999999999987,4.739999999999987,4.7599999999999865,4.779999999999986,4.799999999999986,4.819999999999985,4.839999999999985,4.859999999999984,4.879999999999984,4.8999999999999835,4.919999999999983,4.939999999999983,4.959999999999982,4.979999999999982,4.999999999999981,5.019999999999981,5.0399999999999805,5.05999999999998,5.07999999999998,5.099999999999979,5.119999999999979,5.139999999999978,5.159999999999978,5.1799999999999775,5.199999999999977,5.219999999999977,5.239999999999976,5.259999999999976,5.279999999999975,5.299999999999975,5.3199999999999745,5.339999999999974,5.359999999999974,5.379999999999973,5.399999999999973,5.419999999999972,5.439999999999972,5.4599999999999715,5.479999999999971,5.499999999999971,5.51999999999997,5.53999999999997,5.559999999999969,5.579999999999969,5.599999999999969,5.619999999999968,5.639999999999968,5.659999999999967,5.679999999999967,5.699999999999966,5.719999999999966,5.739999999999966,5.759999999999965,5.779999999999965,5.799999999999964,5.819999999999964,5.839999999999963,5.859999999999963,5.879999999999963,5.899999999999962,5.919999999999962,5.939999999999961,5.959999999999961,5.9799999999999605,5.99999999999996,6.01999999999996,6.039999999999959,6.059999999999959,6.079999999999958,6.099999999999958,6.1199999999999575,6.139999999999957,6.159999999999957,6.179999999999956,6.199999999999956,6.219999999999955,6.239999999999955,6.2599999999999545,6.279999999999954,6.299999999999954,6.319999999999953,6.339999999999953,6.359999999999952,6.379999999999952,6.3999999999999515,6.419999999999951,6.439999999999951,6.45999999999995,6.47999999999995,6.499999999999949,6.519999999999949,6.5399999999999485,6.559999999999948,6.579999999999948,6.599999999999947,6.619999999999947,6.639999999999946,6.659999999999946,6.6799999999999455,6.699999999999945,6.719999999999945,6.739999999999944,6.759999999999944,6.779999999999943,6.799999999999943,6.8199999999999426,6.839999999999942,6.859999999999942,6.879999999999941,6.899999999999941,6.91999999999994,6.93999999999994,6.95999999999994,6.979999999999939,6.999999999999939,7.019999999999938,7.039999999999938,7.059999999999937,7.079999999999937,7.099999999999937,7.119999999999936,7.139999999999936,7.159999999999935,7.179999999999935,7.1999999999999345,7.219999999999934,7.239999999999934,7.259999999999933,7.279999999999933,7.299999999999932,7.319999999999932,7.3399999999999315,7.359999999999931,7.379999999999931,7.39999999999993,7.41999999999993,7.439999999999929,7.459999999999929,7.4799999999999285,7.499999999999928,7.519999999999928,7.539999999999927,7.559999999999927,7.579999999999926,7.599999999999926,7.6199999999999255,7.639999999999925,7.659999999999925,7.679999999999924,7.699999999999924,7.719999999999923,7.739999999999923,7.7599999999999225,7.779999999999922,7.799999999999922,7.819999999999921,7.839999999999921,7.85999999999992,7.87999999999992,7.8999999999999195,7.919999999999919,7.939999999999919,7.959999999999918,7.979999999999918,7.999999999999917,8.019999999999918,8.039999999999917,8.059999999999917,8.079999999999917,8.099999999999916,8.119999999999916,8.139999999999915,8.159999999999915,8.179999999999914,8.199999999999914,8.219999999999914,8.239999999999913,8.259999999999913,8.279999999999912,8.299999999999912,8.319999999999911,8.339999999999911,8.35999999999991,8.37999999999991,8.39999999999991,8.41999999999991,8.439999999999909,8.459999999999908,8.479999999999908,8.499999999999908,8.519999999999907,8.539999999999907,8.559999999999906,8.579999999999906,8.599999999999905,8.619999999999905,8.639999999999905,8.659999999999904,8.679999999999904,8.699999999999903,8.719999999999903,8.739999999999903,8.759999999999902,8.779999999999902,8.799999999999901,8.8199999999999,8.8399999999999,8.8599999999999,8.8799999999999,8.899999999999899,8.919999999999899,8.939999999999898,8.959999999999898,8.979999999999897,8.999999999999897,9.019999999999897,9.039999999999896,9.059999999999896,9.079999999999895,9.099999999999895,9.119999999999894,9.139999999999894,9.159999999999894,9.179999999999893,9.199999999999893,9.219999999999892,9.239999999999892,9.259999999999891,9.279999999999891,9.29999999999989,9.31999999999989,9.33999999999989,9.35999999999989,9.379999999999889,9.399999999999888,9.419999999999888,9.439999999999888,9.459999999999887,9.479999999999887,9.499999999999886,9.519999999999886,9.539999999999885,9.559999999999885,9.579999999999885,9.599999999999884,9.619999999999884,9.639999999999883,9.659999999999883,9.679999999999882,9.699999999999882,9.719999999999882,9.739999999999881,9.75999999999988,9.77999999999988,9.79999999999988,9.81999999999988,9.839999999999879,9.859999999999879,9.879999999999878,9.899999999999878,9.919999999999877,9.939999999999877,9.959999999999877,9.979999999999876,9.999999999999876,10.019999999999875,10.039999999999875,10.059999999999874,10.079999999999874,10.099999999999874,10.119999999999873,10.139999999999873,10.159999999999872,10.179999999999872,10.199999999999871,10.219999999999871,10.23999999999987,10.25999999999987,10.27999999999987,10.29999999999987,10.319999999999869,10.339999999999868,10.359999999999868,10.379999999999868,10.399999999999867,10.419999999999867,10.439999999999866,10.459999999999866,10.479999999999865,10.499999999999865,10.519999999999865,10.539999999999864,10.559999999999864,10.579999999999863,10.599999999999863,10.619999999999862,10.639999999999862,10.659999999999862,10.679999999999861,10.69999999999986,10.71999999999986,10.73999999999986,10.75999999999986,10.779999999999859,10.799999999999859,10.819999999999858,10.839999999999858,10.859999999999857,10.879999999999857,10.899999999999856,10.919999999999856,10.939999999999856,10.959999999999855,10.979999999999855,10.999999999999854,11.019999999999854,11.039999999999853,11.059999999999853,11.079999999999853,11.099999999999852,11.119999999999852,11.139999999999851,11.159999999999851,11.17999999999985,11.19999999999985,11.21999999999985,11.23999999999985,11.259999999999849,11.279999999999848,11.299999999999848,11.319999999999848,11.339999999999847,11.359999999999847,11.379999999999846,11.399999999999846,11.419999999999845,11.439999999999845,11.459999999999845,11.479999999999844,11.499999999999844,11.519999999999843,11.539999999999843,11.559999999999842,11.579999999999842,11.599999999999842,11.619999999999841,11.63999999999984,11.65999999999984,11.67999999999984,11.69999999999984,11.719999999999839,11.739999999999839,11.759999999999838,11.779999999999838,11.799999999999837,11.819999999999837,11.839999999999836,11.859999999999836,11.879999999999836,11.899999999999835,11.919999999999835,11.939999999999834,11.959999999999834,11.979999999999833,11.999999999999833,12.019999999999833,12.039999999999832,12.059999999999832,12.079999999999831,12.099999999999831,12.11999999999983,12.13999999999983,12.15999999999983,12.17999999999983,12.199999999999829,12.219999999999828,12.239999999999828,12.259999999999827,12.279999999999827,12.299999999999827,12.319999999999826,12.339999999999826,12.359999999999825,12.379999999999825,12.399999999999824,12.419999999999824,12.439999999999824,12.459999999999823,12.479999999999823,12.499999999999822,12.519999999999822,12.539999999999822,12.559999999999821,12.57999999999982,12.59999999999982,12.61999999999982,12.63999999999982,12.659999999999819,12.679999999999819,12.699999999999818,12.719999999999818,12.739999999999817,12.759999999999817,12.779999999999816,12.799999999999816,12.819999999999816,12.839999999999815,12.859999999999815,12.879999999999814,12.899999999999814,12.919999999999813,12.939999999999813,12.959999999999813,12.979999999999812,12.999999999999812,13.019999999999811,13.03999999999981,13.05999999999981,13.07999999999981,13.09999999999981,13.11999999999981,13.139999999999809,13.159999999999808,13.179999999999808,13.199999999999807,13.219999999999807,13.239999999999807,13.259999999999806,13.279999999999806,13.299999999999805,13.319999999999805,13.339999999999804,13.359999999999804,13.379999999999804,13.399999999999803,13.419999999999803,13.439999999999802,13.459999999999802,13.479999999999801,13.499999999999801,13.5199999999998,13.5399999999998,13.5599999999998,13.5799999999998,13.599999999999799,13.619999999999798,13.639999999999798,13.659999999999798,13.679999999999797,13.699999999999797,13.719999999999796,13.739999999999796,13.759999999999796,13.779999999999795,13.799999999999795,13.819999999999794,13.839999999999794,13.859999999999793,13.879999999999793,13.899999999999793,13.919999999999792,13.939999999999792,13.959999999999791,13.97999999999979,13.99999999999979,14.01999999999979,14.03999999999979,14.059999999999789,14.079999999999789,14.099999999999788,14.119999999999788,14.139999999999787,14.159999999999787,14.179999999999787,14.199999999999786,14.219999999999786,14.239999999999785,14.259999999999785,14.279999999999784,14.299999999999784,14.319999999999784,14.339999999999783,14.359999999999783,14.379999999999782,14.399999999999782,14.419999999999781,14.439999999999781,14.45999999999978,14.47999999999978,14.49999999999978,14.51999999999978,14.539999999999779,14.559999999999778,14.579999999999778,14.599999999999778,14.619999999999777,14.639999999999777,14.659999999999776,14.679999999999776,14.699999999999775,14.719999999999775,14.739999999999775,14.759999999999774,14.779999999999774,14.799999999999773,14.819999999999773,14.839999999999772,14.859999999999772,14.879999999999772,14.899999999999771,14.91999999999977,14.93999999999977,14.95999999999977,14.97999999999977,14.999999999999769,15.019999999999769,15.039999999999768,15.059999999999768,15.079999999999767,15.099999999999767,15.119999999999767,15.139999999999766,15.159999999999766,15.179999999999765,15.199999999999765,15.219999999999764,15.239999999999764,15.259999999999764,15.279999999999763,15.299999999999763,15.319999999999762,15.339999999999762,15.359999999999761,15.379999999999761,15.39999999999976,15.41999999999976,15.43999999999976,15.45999999999976,15.479999999999759,15.499999999999758,15.519999999999758,15.539999999999758,15.559999999999757,15.579999999999757,15.599999999999756,15.619999999999756,15.639999999999755,15.659999999999755,15.679999999999755,15.699999999999754,15.719999999999754,15.739999999999753,15.759999999999753,15.779999999999752,15.799999999999752,15.819999999999752,15.839999999999751,15.85999999999975,15.87999999999975,15.89999999999975,15.91999999999975,15.939999999999749,15.959999999999749,15.979999999999748,15.999999999999748,16.019999999999747,16.039999999999747,16.059999999999746,16.079999999999746,16.099999999999746,16.119999999999745,16.139999999999745,16.159999999999744,16.179999999999744,16.199999999999743,16.219999999999743,16.239999999999743,16.259999999999742,16.279999999999742,16.29999999999974,16.31999999999974,16.33999999999974,16.35999999999974,16.37999999999974,16.39999999999974,16.41999999999974,16.43999999999974,16.459999999999738,16.479999999999738,16.499999999999737,16.519999999999737,16.539999999999736,16.559999999999736,16.579999999999735,16.599999999999735,16.619999999999735,16.639999999999734,16.659999999999734,16.679999999999733,16.699999999999733,16.719999999999732,16.739999999999732,16.75999999999973,16.77999999999973,16.79999999999973,16.81999999999973,16.83999999999973,16.85999999999973,16.87999999999973,16.89999999999973,16.919999999999728,16.939999999999728,16.959999999999727,16.979999999999727,16.999999999999726,17.019999999999726,17.039999999999726,17.059999999999725,17.079999999999725,17.099999999999724,17.119999999999724,17.139999999999723,17.159999999999723,17.179999999999723,17.199999999999722,17.21999999999972,17.23999999999972,17.25999999999972,17.27999999999972,17.29999999999972,17.31999999999972,17.33999999999972,17.35999999999972,17.37999999999972,17.399999999999718,17.419999999999717,17.439999999999717,17.459999999999717,17.479999999999716,17.499999999999716,17.519999999999715,17.539999999999715,17.559999999999715,17.579999999999714,17.599999999999714,17.619999999999713,17.639999999999713,17.659999999999712,17.679999999999712,17.69999999999971,17.71999999999971,17.73999999999971,17.75999999999971,17.77999999999971,17.79999999999971,17.81999999999971,17.83999999999971,17.859999999999708,17.879999999999708,17.899999999999707,17.919999999999707,17.939999999999706,17.959999999999706,17.979999999999706,17.999999999999705,18.019999999999705,18.039999999999704,18.059999999999704,18.079999999999703,18.099999999999703,18.119999999999703,18.139999999999702,18.1599999999997,18.1799999999997,18.1999999999997,18.2199999999997,18.2399999999997,18.2599999999997,18.2799999999997,18.2999999999997,18.3199999999997,18.339999999999698,18.359999999999697,18.379999999999697,18.399999999999697,18.419999999999696,18.439999999999696,18.459999999999695,18.479999999999695,18.499999999999694,18.519999999999694,18.539999999999694,18.559999999999693,18.579999999999693,18.599999999999692,18.619999999999692,18.63999999999969,18.65999999999969,18.67999999999969,18.69999999999969,18.71999999999969,18.73999999999969,18.75999999999969,18.77999999999969,18.799999999999688,18.819999999999688,18.839999999999687,18.859999999999687,18.879999999999686,18.899999999999686,18.919999999999686,18.939999999999685,18.959999999999685,18.979999999999684,18.999999999999684,19.019999999999683,19.039999999999683,19.059999999999683,19.079999999999682,19.09999999999968,19.11999999999968,19.13999999999968,19.15999999999968,19.17999999999968,19.19999999999968,19.21999999999968,19.23999999999968,19.25999999999968,19.279999999999678,19.299999999999677,19.319999999999677,19.339999999999677,19.359999999999676,19.379999999999676,19.399999999999675,19.419999999999675,19.439999999999674,19.459999999999674,19.479999999999674,19.499999999999673,19.519999999999673,19.539999999999672,19.559999999999672,19.57999999999967,19.59999999999967,19.61999999999967,19.63999999999967,19.65999999999967,19.67999999999967,19.69999999999967,19.71999999999967,19.739999999999668,19.759999999999668,19.779999999999667,19.799999999999667,19.819999999999666,19.839999999999666,19.859999999999665,19.879999999999665,19.899999999999665,19.919999999999664,19.939999999999664,19.959999999999663,19.979999999999663,19.999999999999662],\"y\":[0.1,0.1,0.10039997333386667,0.10119976001759935,0.10239904014718824,0.1039973340265717,0.10599400235950826,0.10838824650528665,0.11117910879817139,0.1143654729304563,0.11794606439897279,0.12191945101487402,0.12628404347649141,0.1310380960050341,0.1361797070428772,0.1417068200141595,0.1476172241473863,0.15390855535970865,0.16057829720252495,0.16762378186802676,0.17504219125628642,0.18283055810245943,0.19098576716365084,0.19950455646497084,0.20838351860428123,0.21761910211511087,0.22720761288719493,0.23714521564406968,0.24742793547713193,0.2580516594355496,0.2690121381713871,0.2803049876392878,0.2919256908500339,0.3038695996772817,0.3161319367167504,0.32870779719711973,0.34159215094187356,0.35477984438130306,0.368265602613866,0.382044031516077,0.39610961990008525,0.4104567417180757,0.42507965831261363,0.4399725207120308,0.45512937196993636,0.47054414954791574,0.4862106877404654,0.5021227201411927,0.518273882149295,0.534657713515315,0.5512676609251544,0.5680970806213124,0.5851392410602996,0.6023873256051664,0.6198344352520662,0.6374735913897651,0.6552977385909938,0.6732997474345239,0.6914724173568416,0.709808479532277,0.7283005997804374,0.746941381499782,0.7657233686261633,0.7846390486151541,0.8036808554469644,0.8228411726527489,0.8421123363610927,0.8614866383634581,0.8809563291973644,0.9005136212460708,0.920150691853518,0.9398596864532872,0.9596327217103217,0.9794618886741554,0.9993392559423883,1.019256872833141,1.039206772565222,1.0591809754447337,1.0791714920568432,1.0991703264614425,1.1191694793914173,1.1391609514522474,1.159136746321658,1.1790888739480414,1.1990093537463722,1.2188902177903338,1.238723513999383,1.258501309319477,1.278215692896188,1.2978587792389404,1.3174227113751014,1.3368996639926654,1.3562818465702744,1.3755615064933233,1.3947309321549015,1.4137824560403334,1.4327084577940816,1.4515013672677881,1.470153667548232,1.4886578979639955,1.5070066570696317,1.5251926056061453,1.543208469436598,1.5610470424556655,1.578701189471985,1.5961638490621353,1.6134280363951128,1.6304868460261703,1.6473334546589031,1.6639611238744767,1.6803632028269042,1.696533130903296,1.7124644403480178,1.7281507588497063,1.7435858120901087,1.758763426253727,1.7736775304972614,1.7883221593778664,1.802691455239249,1.8167796705546526,1.8305811702257913,1.8440904338368143,1.8573020578623982,1.8702107578290856,1.8828113704290035,1.8950988555851176,1.9070682984671967,1.9187149114576783,1.9300340360666524,1.9410211447951948,1.9516718429463071,1.9619818703827363,1.971947103230973,1.981563555530746,1.9908273808293528,1.9997348737201903,2.008282471324867,2.0164667547183073,2.0242844502962765,2.0317324310847775,2.0388077179908004,2.0455074809939187,2.0518290402782595,2.0577698673043963,2.063327585820728,2.0684999728139504,2.07328495939823,2.0776806316427323,2.081685231337168,2.0852971566950527,2.0885149629944015,2.0913373631555987,2.0937632282562113,2.0957915879825433,2.0974216310177485,2.0986527053663466,2.0994843186150125,2.0999161381295344,2.099947991187864,2.099579865049203,2.098811906959098,2.0976444240905465,2.0960778834211293,2.094112911546227,2.0917502944283903,2.0889909770829655,2.0858360632001007,2.0822868147032834,2.07834465124459,2.074011149636842,2.069288043222904,2.0641772211823675,2.0586807277759047,2.0528007615275934,2.0465396743455337,2.039899970581119,2.0328843060273267,2.025495486856437,2.0177364684976027,2.0096103544547144,2.0011203950650427,1.9922699861991455,1.9830626679025656,1.9735021229798586,1.9635921755215218,1.9533367893744071,1.9427400665562373,1.9318062456148515,1.9205396999328441,1.9089449359782693,1.897026591502114,1.8847894336832596,1.8722383572216736,1.8593783823805954,1.8462146529784973,1.832752434331626,1.8189971111479464,1.8049541853733302,1.7906292739908507,1.7760281067740646,1.7611565239951792,1.7460204740890206,1.7306260112737402,1.7149792931292072,1.6990865781340592,1.6829542231623944,1.6665886809411061,1.6499964974688788,1.6331843093978748,1.6161588413791634,1.5989269033729487,1.581495387924677,1.5638712674081103,1.5460615912364706,1.5280734830427671,1.509914137830439,1.4915908190954499,1.4731108559209862,1.4544816400459215,1.4357106229082195,1.4168053126644582,1.397773271186668,1.3786221110376826,1.3593594924262162,1.339993120142882,1.3205307404783786,1.3009801381250767,1.2813491330632465,1.2616455774331694,1.241877352394387,1.2220523649733417,1.2021785449006723,1.1822638414394275,1.1623162202054658,1.1423436599813157,1.12235414952477,1.1023556843734879,1.0823562636468873,1.0623638868466037,1.0423865506567953,1.0224322457455775,1.0025089535688607,0.9826246431778752,0.9627872680316569,0.9430047628157695,0.9232850402685361,0.9036359880160494,0.8840654654172265,0.8645813004201702,0.845191286431094,0.8259031791970632,0.8067246937038004,0.7876635010897929,0.7687272255779406,0.7499234414259679,0.7312596698968218,0.712743376250267,0.6943819667568815,0.676182785735647,0.6581531126163198,0.640300159027755,0.6226310659133517,0.605152900674771,0.5878726543450693,0.5707972387923782,0.5539334839552496,0.5372881351107712,0.520867850176546,0.5046791970476133,0.4887286509693789,0.47302259194760293,0.45756730219648284,0.44236896362585126,0.42743365536849465,0.4127673513485811,0.39837591789217053,0.38426511138076225,0.3704405759488193,0.35690784122618974,0.34367232012632853,0.3307393066812044,0.31811397392375745,0.3058013718187552,0.2938064252428738,0.2821339320148131,0.2707885609762332,0.2597748501242799,0.24909720479644645,0.23875989590849728,0.22876705824615862,0.21912268881125938,0.2098306452229836,0.20089464417487435,0.19231825994820578,0.1841049229823183,0.1762579185024885,0.16878038520588307,0.1616753140061215,0.1549455468369507,0.14859377551550926,0.14262254066563662,0.13703423070165735,0.1318310808730472,0.12701517237036322,0.12258843149279523,0.11855262887767183,0.1149093787922291,0.11166013848792516,0.10880620761755914,0.10634872771542728,0.10428868174072445,0.10262689368437364,0.10136402823944049,0.10050059053526501,0.10003692593541652,0.09997321989955284,0.1003094979092389,0.1010456254577545,0.10218130810389513,0.10371609158974456,0.10564936202237195,0.10798034611938086,0.11070811151821185,0.11383156714907511,0.11734946367136381,0.12126039397337371,0.12556279373512902,0.13025494205408963,0.1353349621334891,0.14080082203302838,0.14665033548162476,0.15288116275189131,0.15949081159599654,0.16647663824253023,0.17383584845397693,0.18156549864437352,0.1896624970567045,0.19812360499956344,0.20694543814258648,0.21612446787013928,0.22565702269271626,0.23553928971548743,0.2457673161634055,0.25633701096226313,0.2672441463750682,0.2784843596930821,0.29005315498084516,0.3019459048744908,0.31415785243262945,0.32668411303906164,0.3395196763565594,0.35265940833093423,0.36609805324459055,0.3798302358187424,0.39385046336345353,0.4081531279746398,0.42273250877715646,0.4375827742130716,0.4526979843742119,0.4680720933780462,0.48369895178595834,0.4995723090629406,0.5156858160777241,0.5320330276423468,0.5486074050901428,0.5654023188911217,0.5824110513036923,0.5996267990616696,0.6170426760954908,0.6346517162865508,0.6524468762535574,0.6704210381697893,0.6885670126101323,0.7068775414267535,0.7253453006522633,0.7439629034292051,0.7627229029646994,0.781617795509062,0.8006400233572037,0.8197819778716117,0.8390360025257027,0.858394395966332,0.877849415094232,0.8973932781611481,0.9170181678824351,0.936716234563866,0.9564795992414058,0.9763003568326913,0.9961705792989595,1.0160823188161565,1.0360276109539617,1.0559984778614537,1.0759869314581443,1.0959849766291037,1.1159846144229009,1.1359778452510765,1.155956672087872,1.1759131036689336,1.1958391576877112,1.2157268639882741,1.2355682677532682,1.2553554326857361,1.2750804441835302,1.2947354125050476,1.3143124759250229,1.333803803879112,1.353201600096014,1.3724981057158763,1.391685602393734,1.410756415386746,1.4297029166239892,1.4485175277575852,1.4671927231939388,1.4857210331038748,1.50409504641047,1.5223074137533854,1.540350850428512,1.5582181393017558,1.5759021336957948,1.593395760248655,1.6106920217429603,1.6277839999047268,1.6446648581705798,1.661327844422288,1.6777662936875213,1.6939736308057494,1.7099433730582203,1.7256691327609601,1.7411446198197615,1.7563636442461383,1.7713201186332375,1.786008060590721,1.8004215951376425,1.8145549570523614,1.8284024931785539,1.841958664686401,1.8552180492880461,1.8681753434064379,1.8808253642966908,1.8931630521191132,1.9051834719630765,1.9168818158209133,1.9282534045110564,1.9392936895496486,1.9499982549698767,1.9603628190882978,1.9703832362174571,1.980055498324107,1.989375736632366,1.9983402231711795,2.0069453722654567,2.0151877419702937,2.0230640354477054,2.030571102285317,2.0377059397564854,2.0444656940213526,2.0508476612683415,2.0568492887956453,2.0624681760322736,2.067702075498249,2.0725488937035697,2.0770066919855767,2.081073687284394,2.0847482528561274,2.0880289189235426,2.0909143732639537,2.093403461734097,2.095495188731772,2.0971887175940687,2.0984833709320223,2.099378630901559,2.0998741394106286,2.0999696982624334,2.099665269234707,2.0989609740950015,2.097857094551982,2.096354072142748,2.0944525080562233,2.092153162892688,2.0894569563595504,2.0863649669034747,2.0828784312790174,2.078998744053942,2.0747274570514094,2.0700662787292714,2.0650170734967084,2.0595818609684917,2.0537628151571643,2.047562263603464,2.0409826864453398,2.034026715425928,2.026697132840892,2.0189968704255388,2.0109290081821656,2.0024967731481,1.9937035381049273,1.9845528202294231,1.9750482796867297,1.9651937181663386,1.9549930773614657,1.944450437392426,1.9335700151746407,1.9223561627319263,1.9108133654557442,1.8989462403111026,1.8867595339898333,1.8742581210119778,1.8614470017760434,1.8483313005589121,1.8349162634661973,1.821207256333871,1.807209762582002,1.7929293810214602,1.7783718236144672,1.7635429131898877,1.7484485811141752,1.7330948649189053,1.7174879058858423,1.7016339465905095,1.6855393284052418,1.669210488962721,1.6526539595810095,1.635876362651109,1.6188844089880932,1.6016848951468707,1.5842847007036547,1.5666907855042225,1.5489101868800716,1.5309500168335803,1.5128174591933015,1.494519766740527,1.476064258308272,1.457458315853839,1.438709381506134,1.4198249545889137,1.400812588621156,1.381679888295753,1.362434506437736,1.343084140943246,1.3236365317004795,1.3040994574938356,1.2844807328925063,1.2647882051247525,1.245029750939118,1.2252132734538341,1.205346698995679,1.1854379739295517,1.1654950614800326,1.1455259385461996,1.1255385925109747,1.1055410180462777,1.0855412139152636,1.0655471797729243,1.0455669129663334,1.0256084053358132,1.0056796400183063,0.9857885882542262,0.9659432061990681,0.9461514317410525,0.9264211813260759,0.9067603467912375,0.8871767922082106,0.8676783507377176,0.8482728214963711,0.8289679664371306,0.8097715072446251,0.7906911222465824,0.7717344433425999,0.7529090529514868,0.7342224809783977,0.7156822018029709,0.6972956312896762,0.6790701238215678,0.6610129693586295,0.6431313905218876,0.6254325397044589,0.6079234962106888,0.5906112634245241,0.5735027660082525,0.5566048471327303,0.5399242657402051,0.5234676938408291,0.5072417138439441,0.4912528159252053,0.47550739543059767,0.460011750318383,0.44477207864000023,0.4297944760609279,0.4150849334224989,0.400649334345644,0.3864934528775218,0.37262295118197697,0.3590433772747502,0.34576016280434585,0.3327786208794449,0.3201039439437323,0.30774120169898905,0.2956953390772786,0.28397117426304025,0.2725733967658796,0.2615065655448272,0.2507751071848157,0.24038331412610486,0.23033534294736277,0.22063521270308978,0.21128680331605026,0.2022938540253552,0.19365996189081652,0.185388580354171,0.17748301785774967,0.16994643652114502,0.16278185087640526,0.15599212666226175,0.14957997967787173,0.14354797469653477,0.13789852443981776,0.1326338886124984,0.12775617299871336,0.12326732861967286,0.11916915095327804,0.11546327921595383,0.11215119570698417,0.10923422521561214,0.10671353449114186,0.10459013177625437,0.10286486640372396,0.1015384284566964,0.10061134849266491,0.1000839973312542,0.09995658590589757,0.10022916517946637,0.10090162612388552,0.10197369976374328,0.10344495728387781,0.10531481020089759,0.10758251059856683,0.11024715142696208,0.11330766686528004,0.11676283274815173,0.12061126705529225,0.12485143046429052,0.1294816269663177,0.1345000045445081,0.1399045559147413,0.14569311932852888,0.15186337943768516,0.1584128682204355,0.16533896596859216,0.1726389023354026,0.18030975744365133,0.18834846305357172,0.19675180379010113,0.205516418428988,0.21463880124123672,0.22411530339535254,0.23394213441682551,0.24411536370426973,0.2546309221016114,0.26548460352569725,0.2766720666486714,0.2881888366344489,0.30003030692859023,0.312191741100862,0.3246682747397456,0.33745491739813693,0.35054655458945905,0.3639379498333882,0.37762374675037635,0.3915984712041316,0.40585653349119966,0.4203922305767706,0.43519974837581693,0.45027316407865,0.4656064485199648,0.4811934685904259,0.4970279896898293,0.5131036782208593,0.5294141041224433,0.54595274344169,0.562712980943384,0.5796881127559913,0.5968713490531191,0.6142558167693554,0.6318345623494033,0.649600554529411,0.6675466871493834,0.6856657819955508,0.7039505916715597,0.7223938024973339,0.7409880374344491,0.7597258590368504,0.7785997724257312,0.7976022282873846,0.8167256258928287,0.8359623161379967,0.8553046046032761,0.8747447546311746,0.8942749904208797,0.913887500138475,0.9335744390415702,0.9533279326170931,0.9731400797309899,0.9930029557885736,1.0129086159042557,1.0328490980793954,1.0528164263869921,1.0728026141619504,1.092799667195639,1.1127995869334686,1.1327943736742057,1.1527760297697478,1.1727365628240753,1.1926679888901033,1.212562335663154,1.2324116456697731,1.2522079794506114,1.2719434187361043,1.2916100696136734,1.311200065685186,1.3307055712134104,1.3501187842562046,1.3694319397871912,1.3886373128016631,1.4077272214064829,1.426694029892737,1.4455301517899188,1.4642280529004141,1.4827802543130808,1.501179335394713,1.519417936758196,1.5374887632061625,1.5553845866489746,1.573098248995863,1.5906226650180675,1.6079508251828354,1.6250757984571398,1.641990735080001,1.658688869302299,1.675163522092984,1.6914081038105986,1.7074161168390476,1.7231811581865568,1.738696922046785,1.753957202321062,1.7689558951007458,1.7836870011087047,1.7981446280989475,1.8123229932134437,1.82621642529519,1.8398193671565972,1.8531263778022906,1.8661321346054365,1.8788314354367213,1.8912192007451343,1.9032904755897202,1.9150404316214893,1.926464369014693,1.937557718346691,1.9483160424256598,1.9587350380654103,1.9688105378066048,1.9785385115836849,1.9879150683368443,1.996936457568401,2.005599070842946,2.013899443230669,2.0218342546932857,2.0294003314120066,2.0365946470570244,2.043414323998004,2.049856634455096,2.0559190015900146,2.061599000536736,2.0668943593714144,2.071802960021119,2.0763228391110373,2.0804521887497978,2.0841893572526025,2.087532849801878,2.090481329045184,2.093033615630136,2.0951886886761297,2.0969456861826807,2.098303905374213,2.099262802981159,2.099821995457261,2.0999812591329845,2.0997405303049828,2.0990999052615775,2.0980596402442444,2.09662015134512,2.0947820143405713,2.092545964460892,2.0899128960962203,2.086883862438795,2.083460075061692,2.079642903434213,2.075433874374114,2.070834671436899,2.0658471342424214,2.060473257739059,2.0547151914057626,2.048575238392292,2.0420558545979883,2.035159647689445,2.0278893760574768,2.020247947713801,2.0122384191278715,2.0038639940043295,1.9951280220015672,1.986033997391908,1.976585557663943,1.9667864820675864,1.956640690102424,1.9461522399499664,1.9353253268504307,1.9241642814246993,1.912673567942131,1.9008577825349111,1.888721651359661,1.8762700287070375,1.8635078950600825,1.8504403551020954,1.8370726356748275,1.823410083687816,1.8094581639796907,1.7952224571323119,1.7807086572386115,1.7659225696250325,1.7508701085294749,1.73555729473568,1.7199902531649975,1.7041752104264976,1.6881184923264114,1.6718265213378922,1.655305814032112,1.63856297847172,1.6216047115677055,1.6044377964007228,1.5870690995079497,1.5695055681365637,1.551754227464936,1.5338221777926542,1.515716591700496,1.4974447111814937,1.4790138447442331,1.4604313644895477,1.4417047031617762,1.4228413511757643,1.403848853620798,1.3847348072426697,1.3655068574050802,1.3461726950315949,1.326740053529378,1.307216705695932,1.2876104606100824,1.2679291605084506,1.2481806776486633,1.2283729111605546,1.20851378388662,1.1886112392129842,1.1686732378921527,1.1487077548588176,1.1287227760399892,1.1087262951607322,1.0887263105467822,1.0687308219253218,1.0487478272251967,1.0287853193778504,1.008851283120259,0.9889536918011416,0.9691005041917282,0.9492996613023571,0.9295590832061762,0.9098866658712197,0.8902902780021262,0.8707777578927618,0.8513569102910067,0.8320355032769604,0.8128212651558132,0.7937218813666271,0.7747449914082628,0.7558981857836817,0.7371890029638464,0.7186249263724322,0.7002133813925582,0.6819617323967322,0.6638772798012004,0.6459672571458782,0.6282388282010307,0.6106990841018599,0.5933550405121454,0.5762136348180722,0.5592817233533689,0.5425660786568655,0.5260733867635683,0.5098102445303352,0.49378315699722025,0.4779985347855452,0.4624626915337358,0.44718184137195105,0.43216209643651365,0.41740946442513716,0.402929846193927,0.38872903339711673,0.37481270617048335,0.36118643085936897,0.34785565779221683,0.33482571910051245,0.32210182658600234,0.3096890696360427,0.29759241318791224,0.28581669574290364,0.27436662743098744,0.26324678812682284,0.252461625617869,0.2420154538253292,0.23191245107864009,0.22215665844419535,0.21275197810897334,0.20370217181971403,0.19501085937827067,0.1866815171937372,0.17871747689193104,0.17112192398278708,0.16389789658619633,0.15704828421679834,0.15057582662821392,0.1444831127171802,0.13877257948802652,0.1334465110779051,0.1285070378431667,0.12395613550724643,0.11979562437040078,0.11602716858161176,0.11265227547294945,0.10967229495665937,0.10708841898521547,0.10490168107455511,0.10311295589068645,0.10172295889983367,0.10073224608226007,0.10014121370988337,0.09995009818777216,0.10015897595958714,0.10076776347700457,0.10177621723313456,0.1031839338599205,0.104990350289481,0.10719474397932946,0.10979623320138147,0.11279377739463427,0.11618617758137727,0.11997207684676718,0.12414996088157583,0.12871815858789368,0.13367484274754668,0.1390180307529592,0.14474558540017068,0.15085521574368857,0.15734447801283613,0.16421077658922803,0.17145136504498315,0.17906334724125908,0.18704367848666906,0.19538916675511792,0.20409647396256997,0.2131621173022381,0.2225824706376601,0.2323537659531048,0.24247209486072827,0.25293341016387666,0.2637335274759111,0.27486812689390644,0.2863327547265548,0.29812282527558276,0.31023362266996957,0.3226603027522326,0.3353978950160259,0.34844130459427614,0.3617853142970619,0.37542458669841977,0.3893536662712438,0.4035669815694234,0.41805884745634764,0.4328234673788841,0.4478549356859227,0.46314723999055757,0.4786942635749615,0.4944897878369916,0.5105274947775472,0.5268009695276854,0.5433037029144829,0.5600290940646185,0.5769704530446345,0.5941210035368204,0.6114738855496504,0.6290221581616882,0.6467588022978625,0.6646767235370046,0.682768754949521]}},\"id\":\"f267e7d4-b1ea-4e33-b4cf-3489d430b6c4\",\"type\":\"ColumnDataSource\"},{\"attributes\":{},\"id\":\"43ed50a3-0721-4f06-b194-cbf0bd22796b\",\"type\":\"BasicTicker\"},{\"attributes\":{\"plot\":{\"id\":\"bd581663-449e-4c34-b0cb-f0cee3ba0f0f\",\"subtype\":\"Figure\",\"type\":\"Plot\"}},\"id\":\"1ee967e5-07bd-497d-abde-3532bdf02c6b\",\"type\":\"ResetTool\"},{\"attributes\":{\"plot\":{\"id\":\"bd581663-449e-4c34-b0cb-f0cee3ba0f0f\",\"subtype\":\"Figure\",\"type\":\"Plot\"},\"ticker\":{\"id\":\"f36b7a61-ccbe-4b6d-8e72-678e9a8b0b63\",\"type\":\"BasicTicker\"}},\"id\":\"74fb4b70-8583-44c9-a6cc-bbdfce4a3f65\",\"type\":\"Grid\"},{\"attributes\":{\"bottom_units\":\"screen\",\"fill_alpha\":{\"value\":0.5},\"fill_color\":{\"value\":\"lightgrey\"},\"left_units\":\"screen\",\"level\":\"overlay\",\"line_alpha\":{\"value\":1.0},\"line_color\":{\"value\":\"black\"},\"line_dash\":[4,4],\"line_width\":{\"value\":2},\"plot\":null,\"render_mode\":\"css\",\"right_units\":\"screen\",\"top_units\":\"screen\"},\"id\":\"94bbd05f-3924-457e-812e-c19966ec5487\",\"type\":\"BoxAnnotation\"},{\"attributes\":{\"data_source\":{\"id\":\"8efdaa0a-5dc8-4ca8-98ec-096b6f1ec3b0\",\"type\":\"ColumnDataSource\"},\"glyph\":{\"id\":\"f5939506-3f15-46b7-a087-62f73862db4e\",\"type\":\"Line\"},\"hover_glyph\":null,\"nonselection_glyph\":{\"id\":\"035e5219-083d-4879-ad27-c55f5a582fdc\",\"type\":\"Line\"},\"selection_glyph\":null},\"id\":\"267a60a2-83d0-47b8-8f55-22317239eca9\",\"type\":\"GlyphRenderer\"},{\"attributes\":{\"plot\":{\"id\":\"bd581663-449e-4c34-b0cb-f0cee3ba0f0f\",\"subtype\":\"Figure\",\"type\":\"Plot\"}},\"id\":\"7dcd0568-3704-4353-9588-9b8cd519af2c\",\"type\":\"HelpTool\"},{\"attributes\":{\"plot\":{\"id\":\"0d7f0f7e-069b-49de-8425-6f104af71d2b\",\"subtype\":\"Figure\",\"type\":\"Plot\"},\"ticker\":{\"id\":\"5890d742-23b3-4fee-8b6b-e326f9704629\",\"type\":\"BasicTicker\"}},\"id\":\"1258ed16-8ded-41be-9554-7d13795d3ca3\",\"type\":\"Grid\"},{\"attributes\":{},\"id\":\"71950f8b-f995-41c5-bbb6-1234e5668656\",\"type\":\"BasicTickFormatter\"},{\"attributes\":{\"plot\":{\"id\":\"0d7f0f7e-069b-49de-8425-6f104af71d2b\",\"subtype\":\"Figure\",\"type\":\"Plot\"}},\"id\":\"e8fa0239-3141-49de-a66c-bbae9a97acdc\",\"type\":\"WheelZoomTool\"},{\"attributes\":{},\"id\":\"091f08d4-3e33-4042-908b-f2d82719e68e\",\"type\":\"BasicTickFormatter\"},{\"attributes\":{\"legends\":[[\"Trajectory\",[{\"id\":\"cde21dcc-78cc-48d3-aacb-271204293321\",\"type\":\"GlyphRenderer\"}]]],\"plot\":{\"id\":\"bd581663-449e-4c34-b0cb-f0cee3ba0f0f\",\"subtype\":\"Figure\",\"type\":\"Plot\"}},\"id\":\"e139de46-b89d-4cfc-a5f2-1d530adecea8\",\"type\":\"Legend\"},{\"attributes\":{\"plot\":{\"id\":\"0d7f0f7e-069b-49de-8425-6f104af71d2b\",\"subtype\":\"Figure\",\"type\":\"Plot\"}},\"id\":\"e8bc0383-ddfb-498a-bf52-79fa16936708\",\"type\":\"PanTool\"},{\"attributes\":{},\"id\":\"5890d742-23b3-4fee-8b6b-e326f9704629\",\"type\":\"BasicTicker\"},{\"attributes\":{\"axis_label\":\"x\",\"formatter\":{\"id\":\"b3eb5767-3e88-4a5f-964c-13f91cafa284\",\"type\":\"BasicTickFormatter\"},\"plot\":{\"id\":\"bd581663-449e-4c34-b0cb-f0cee3ba0f0f\",\"subtype\":\"Figure\",\"type\":\"Plot\"},\"ticker\":{\"id\":\"53a253a3-d9a7-4407-bfd1-e1b23077520f\",\"type\":\"BasicTicker\"}},\"id\":\"fe7e7874-3bc0-4516-ade7-da35ab7bc00d\",\"type\":\"LinearAxis\"},{\"attributes\":{\"callback\":null},\"id\":\"747e88a3-68aa-4ff6-ac7f-e134b31b3842\",\"type\":\"DataRange1d\"},{\"attributes\":{\"dimension\":1,\"plot\":{\"id\":\"0d7f0f7e-069b-49de-8425-6f104af71d2b\",\"subtype\":\"Figure\",\"type\":\"Plot\"},\"ticker\":{\"id\":\"43ed50a3-0721-4f06-b194-cbf0bd22796b\",\"type\":\"BasicTicker\"}},\"id\":\"6ee74d65-b518-4cb1-afa2-0b9969512379\",\"type\":\"Grid\"},{\"attributes\":{\"axis_label\":\"t\",\"formatter\":{\"id\":\"091f08d4-3e33-4042-908b-f2d82719e68e\",\"type\":\"BasicTickFormatter\"},\"plot\":{\"id\":\"0d7f0f7e-069b-49de-8425-6f104af71d2b\",\"subtype\":\"Figure\",\"type\":\"Plot\"},\"ticker\":{\"id\":\"5890d742-23b3-4fee-8b6b-e326f9704629\",\"type\":\"BasicTicker\"}},\"id\":\"8d1cc98c-9e8f-49da-95b2-350b761a9241\",\"type\":\"LinearAxis\"},{\"attributes\":{\"plot\":{\"id\":\"bd581663-449e-4c34-b0cb-f0cee3ba0f0f\",\"subtype\":\"Figure\",\"type\":\"Plot\"}},\"id\":\"93094c1d-5bff-4bdb-b361-113203dff839\",\"type\":\"PanTool\"},{\"attributes\":{},\"id\":\"b3eb5767-3e88-4a5f-964c-13f91cafa284\",\"type\":\"BasicTickFormatter\"},{\"attributes\":{\"line_color\":{\"value\":\"#1f77b4\"},\"line_width\":{\"value\":2},\"x\":{\"field\":\"x\"},\"y\":{\"field\":\"y\"}},\"id\":\"34d66827-1573-4e1a-a501-2e42cb98d6cb\",\"type\":\"Line\"},{\"attributes\":{\"axis_label\":\"t\",\"formatter\":{\"id\":\"4e130360-44e6-489e-9876-6f3309a42f01\",\"type\":\"BasicTickFormatter\"},\"plot\":{\"id\":\"bd581663-449e-4c34-b0cb-f0cee3ba0f0f\",\"subtype\":\"Figure\",\"type\":\"Plot\"},\"ticker\":{\"id\":\"f36b7a61-ccbe-4b6d-8e72-678e9a8b0b63\",\"type\":\"BasicTicker\"}},\"id\":\"1be2a116-d9dd-4a74-b276-669d0717a39b\",\"type\":\"LinearAxis\"},{\"attributes\":{\"plot\":{\"id\":\"0d7f0f7e-069b-49de-8425-6f104af71d2b\",\"subtype\":\"Figure\",\"type\":\"Plot\"}},\"id\":\"9610167e-0ff4-4b13-b6e4-0056d753d6c2\",\"type\":\"HelpTool\"},{\"attributes\":{\"below\":[{\"id\":\"1be2a116-d9dd-4a74-b276-669d0717a39b\",\"type\":\"LinearAxis\"}],\"left\":[{\"id\":\"fe7e7874-3bc0-4516-ade7-da35ab7bc00d\",\"type\":\"LinearAxis\"}],\"renderers\":[{\"id\":\"1be2a116-d9dd-4a74-b276-669d0717a39b\",\"type\":\"LinearAxis\"},{\"id\":\"74fb4b70-8583-44c9-a6cc-bbdfce4a3f65\",\"type\":\"Grid\"},{\"id\":\"fe7e7874-3bc0-4516-ade7-da35ab7bc00d\",\"type\":\"LinearAxis\"},{\"id\":\"0d02c65d-4b21-43e8-83fb-21a5e4fa0ed5\",\"type\":\"Grid\"},{\"id\":\"74fc4be6-0305-4f06-aea6-9d559dec2835\",\"type\":\"BoxAnnotation\"},{\"id\":\"e139de46-b89d-4cfc-a5f2-1d530adecea8\",\"type\":\"Legend\"},{\"id\":\"cde21dcc-78cc-48d3-aacb-271204293321\",\"type\":\"GlyphRenderer\"}],\"title\":\"Euler method for Sinusoidal Derivative\",\"tool_events\":{\"id\":\"e462f54f-f668-4dc8-8927-d775753fdc1a\",\"type\":\"ToolEvents\"},\"tools\":[{\"id\":\"93094c1d-5bff-4bdb-b361-113203dff839\",\"type\":\"PanTool\"},{\"id\":\"ad028e3b-4962-45ca-b3a1-0f15c4f8a98a\",\"type\":\"WheelZoomTool\"},{\"id\":\"f5d5ac51-bf0e-4482-b66d-63a921bed128\",\"type\":\"BoxZoomTool\"},{\"id\":\"ddf69973-9d25-4dc2-a34a-b4e6aed1e9f0\",\"type\":\"PreviewSaveTool\"},{\"id\":\"fc1159ca-147a-4a6d-917b-bcbefdab73c8\",\"type\":\"ResizeTool\"},{\"id\":\"1ee967e5-07bd-497d-abde-3532bdf02c6b\",\"type\":\"ResetTool\"},{\"id\":\"7dcd0568-3704-4353-9588-9b8cd519af2c\",\"type\":\"HelpTool\"}],\"x_range\":{\"id\":\"7a19bd3f-b8b0-4311-b13a-1843b2f32df5\",\"type\":\"DataRange1d\"},\"y_range\":{\"id\":\"a836e7b8-3ab5-4409-807e-abdd88cc98b2\",\"type\":\"DataRange1d\"}},\"id\":\"bd581663-449e-4c34-b0cb-f0cee3ba0f0f\",\"subtype\":\"Figure\",\"type\":\"Plot\"},{\"attributes\":{\"plot\":{\"id\":\"0d7f0f7e-069b-49de-8425-6f104af71d2b\",\"subtype\":\"Figure\",\"type\":\"Plot\"}},\"id\":\"c481148f-dd38-40b9-9be0-514df979feab\",\"type\":\"ResizeTool\"},{\"attributes\":{},\"id\":\"53a253a3-d9a7-4407-bfd1-e1b23077520f\",\"type\":\"BasicTicker\"},{\"attributes\":{\"plot\":{\"id\":\"0d7f0f7e-069b-49de-8425-6f104af71d2b\",\"subtype\":\"Figure\",\"type\":\"Plot\"}},\"id\":\"c4ef8f5e-ccdc-411a-ab62-4982fe6289e0\",\"type\":\"ResetTool\"},{\"attributes\":{\"plot\":{\"id\":\"bd581663-449e-4c34-b0cb-f0cee3ba0f0f\",\"subtype\":\"Figure\",\"type\":\"Plot\"}},\"id\":\"fc1159ca-147a-4a6d-917b-bcbefdab73c8\",\"type\":\"ResizeTool\"},{\"attributes\":{},\"id\":\"15016458-b23b-428b-96ac-2c6fcaa6c252\",\"type\":\"ToolEvents\"},{\"attributes\":{\"plot\":{\"id\":\"bd581663-449e-4c34-b0cb-f0cee3ba0f0f\",\"subtype\":\"Figure\",\"type\":\"Plot\"}},\"id\":\"ad028e3b-4962-45ca-b3a1-0f15c4f8a98a\",\"type\":\"WheelZoomTool\"},{\"attributes\":{\"callback\":null,\"column_names\":[\"x\",\"y\"],\"data\":{\"x\":[0.0,0.01,0.02,0.03,0.04,0.05,0.060000000000000005,0.07,0.08,0.09,0.09999999999999999,0.10999999999999999,0.11999999999999998,0.12999999999999998,0.13999999999999999,0.15,0.16,0.17,0.18000000000000002,0.19000000000000003,0.20000000000000004,0.21000000000000005,0.22000000000000006,0.23000000000000007,0.24000000000000007,0.25000000000000006,0.26000000000000006,0.2700000000000001,0.2800000000000001,0.2900000000000001,0.3000000000000001,0.3100000000000001,0.3200000000000001,0.3300000000000001,0.34000000000000014,0.35000000000000014,0.36000000000000015,0.37000000000000016,0.38000000000000017,0.3900000000000002,0.4000000000000002,0.4100000000000002,0.4200000000000002,0.4300000000000002,0.4400000000000002,0.45000000000000023,0.46000000000000024,0.47000000000000025,0.48000000000000026,0.49000000000000027,0.5000000000000002,0.5100000000000002,0.5200000000000002,0.5300000000000002,0.5400000000000003,0.5500000000000003,0.5600000000000003,0.5700000000000003,0.5800000000000003,0.5900000000000003,0.6000000000000003,0.6100000000000003,0.6200000000000003,0.6300000000000003,0.6400000000000003,0.6500000000000004,0.6600000000000004,0.6700000000000004,0.6800000000000004,0.6900000000000004,0.7000000000000004,0.7100000000000004,0.7200000000000004,0.7300000000000004,0.7400000000000004,0.7500000000000004,0.7600000000000005,0.7700000000000005,0.7800000000000005,0.7900000000000005,0.8000000000000005,0.8100000000000005,0.8200000000000005,0.8300000000000005,0.8400000000000005,0.8500000000000005,0.8600000000000005,0.8700000000000006,0.8800000000000006,0.8900000000000006,0.9000000000000006,0.9100000000000006,0.9200000000000006,0.9300000000000006,0.9400000000000006,0.9500000000000006,0.9600000000000006,0.9700000000000006,0.9800000000000006,0.9900000000000007,1.0000000000000007],\"y\":[0.1,0.10200000000000001,0.10404000000000001,0.1061208,0.108243216,0.11040808032,0.1126162419264,0.114868566764928,0.11716593810022656,0.11950925686223109,0.12189944199947571,0.12433743083946522,0.12682417945625452,0.1293606630453796,0.13194787630628718,0.13458683383241293,0.1372785705090612,0.14002414191924242,0.14282462475762728,0.14568111725277982,0.14859473959783542,0.15156663438979212,0.15459796707758797,0.15768992641913973,0.16084372494752253,0.16406059944647297,0.16734181143540244,0.1706886476641105,0.1741024206173927,0.17758446902974057,0.18113615841033537,0.1847588815785421,0.18845405921011293,0.1922231403943152,0.1960676032022015,0.19998895526624555,0.20398873437157047,0.20806850905900187,0.2122298792401819,0.21647447682498555,0.22080396636148525,0.22522004568871495,0.22972444660248925,0.23431893553453903,0.2390053142452298,0.2437854205301344,0.2486611289407371,0.2536343515195518,0.25870703854994287,0.26388117932094174,0.26915880290736055,0.27454197896550775,0.28003281854481793,0.2856334749157143,0.29134614441402856,0.29717306730230914,0.3031165286483553,0.30917885922132243,0.3153624364057489,0.3216696851338639,0.32810307883654116,0.334665140413272,0.34135844322153747,0.3481856120859682,0.3551493243276876,0.36225231081424136,0.36949735703052616,0.3768873041711367,0.3844250502545594,0.3921135512596506,0.3999558222848436,0.4079549387305405,0.4161140375051513,0.42443631825525435,0.4329250446203594,0.4415835455127666,0.4504152164230219,0.45942352075148235,0.468611991166512,0.4779842309898422,0.48754391560963906,0.49729479392183185,0.5072406898002685,0.5173855035962739,0.5277332136681994,0.5382878779415633,0.5490536355003945,0.5600347082104025,0.5712354023746106,0.5826601104221028,0.5943133126305448,0.6061995788831557,0.6183235704608188,0.6306900418700352,0.6433038427074359,0.6561699195615847,0.6692933179528163,0.6826791843118727,0.6963327679981102,0.7102594233580724,0.7244646118252338]}},\"id\":\"8efdaa0a-5dc8-4ca8-98ec-096b6f1ec3b0\",\"type\":\"ColumnDataSource\"},{\"attributes\":{\"line_alpha\":{\"value\":0.1},\"line_color\":{\"value\":\"#1f77b4\"},\"line_width\":{\"value\":2},\"x\":{\"field\":\"x\"},\"y\":{\"field\":\"y\"}},\"id\":\"035e5219-083d-4879-ad27-c55f5a582fdc\",\"type\":\"Line\"},{\"attributes\":{\"line_alpha\":{\"value\":0.1},\"line_color\":{\"value\":\"#1f77b4\"},\"line_width\":{\"value\":2},\"x\":{\"field\":\"x\"},\"y\":{\"field\":\"y\"}},\"id\":\"9bc11859-c575-452d-af84-eb77c62a7e97\",\"type\":\"Line\"},{\"attributes\":{\"dimension\":1,\"plot\":{\"id\":\"bd581663-449e-4c34-b0cb-f0cee3ba0f0f\",\"subtype\":\"Figure\",\"type\":\"Plot\"},\"ticker\":{\"id\":\"53a253a3-d9a7-4407-bfd1-e1b23077520f\",\"type\":\"BasicTicker\"}},\"id\":\"0d02c65d-4b21-43e8-83fb-21a5e4fa0ed5\",\"type\":\"Grid\"},{\"attributes\":{\"callback\":null},\"id\":\"64e4066a-43a6-452f-a570-cdd67d031ebc\",\"type\":\"DataRange1d\"},{\"attributes\":{\"callback\":null},\"id\":\"7a19bd3f-b8b0-4311-b13a-1843b2f32df5\",\"type\":\"DataRange1d\"},{\"attributes\":{},\"id\":\"e462f54f-f668-4dc8-8927-d775753fdc1a\",\"type\":\"ToolEvents\"},{\"attributes\":{\"plot\":{\"id\":\"bd581663-449e-4c34-b0cb-f0cee3ba0f0f\",\"subtype\":\"Figure\",\"type\":\"Plot\"}},\"id\":\"ddf69973-9d25-4dc2-a34a-b4e6aed1e9f0\",\"type\":\"PreviewSaveTool\"},{\"attributes\":{\"bottom_units\":\"screen\",\"fill_alpha\":{\"value\":0.5},\"fill_color\":{\"value\":\"lightgrey\"},\"left_units\":\"screen\",\"level\":\"overlay\",\"line_alpha\":{\"value\":1.0},\"line_color\":{\"value\":\"black\"},\"line_dash\":[4,4],\"line_width\":{\"value\":2},\"plot\":null,\"render_mode\":\"css\",\"right_units\":\"screen\",\"top_units\":\"screen\"},\"id\":\"74fc4be6-0305-4f06-aea6-9d559dec2835\",\"type\":\"BoxAnnotation\"},{\"attributes\":{\"line_color\":{\"value\":\"#1f77b4\"},\"line_width\":{\"value\":2},\"x\":{\"field\":\"x\"},\"y\":{\"field\":\"y\"}},\"id\":\"f5939506-3f15-46b7-a087-62f73862db4e\",\"type\":\"Line\"},{\"attributes\":{\"axis_label\":\"x\",\"formatter\":{\"id\":\"71950f8b-f995-41c5-bbb6-1234e5668656\",\"type\":\"BasicTickFormatter\"},\"plot\":{\"id\":\"0d7f0f7e-069b-49de-8425-6f104af71d2b\",\"subtype\":\"Figure\",\"type\":\"Plot\"},\"ticker\":{\"id\":\"43ed50a3-0721-4f06-b194-cbf0bd22796b\",\"type\":\"BasicTicker\"}},\"id\":\"7646beb9-055f-4013-834e-5458f603b977\",\"type\":\"LinearAxis\"},{\"attributes\":{\"plot\":{\"id\":\"0d7f0f7e-069b-49de-8425-6f104af71d2b\",\"subtype\":\"Figure\",\"type\":\"Plot\"}},\"id\":\"5472e678-38d3-4f6f-a027-498b044ab8a0\",\"type\":\"PreviewSaveTool\"},{\"attributes\":{\"callback\":null},\"id\":\"a836e7b8-3ab5-4409-807e-abdd88cc98b2\",\"type\":\"DataRange1d\"},{\"attributes\":{\"legends\":[[\"Trajectory\",[{\"id\":\"267a60a2-83d0-47b8-8f55-22317239eca9\",\"type\":\"GlyphRenderer\"}]]],\"plot\":{\"id\":\"0d7f0f7e-069b-49de-8425-6f104af71d2b\",\"subtype\":\"Figure\",\"type\":\"Plot\"}},\"id\":\"c66399d6-18f9-42aa-a04c-46df798c6410\",\"type\":\"Legend\"},{\"attributes\":{\"overlay\":{\"id\":\"74fc4be6-0305-4f06-aea6-9d559dec2835\",\"type\":\"BoxAnnotation\"},\"plot\":{\"id\":\"bd581663-449e-4c34-b0cb-f0cee3ba0f0f\",\"subtype\":\"Figure\",\"type\":\"Plot\"}},\"id\":\"f5d5ac51-bf0e-4482-b66d-63a921bed128\",\"type\":\"BoxZoomTool\"},{\"attributes\":{},\"id\":\"4e130360-44e6-489e-9876-6f3309a42f01\",\"type\":\"BasicTickFormatter\"},{\"attributes\":{\"data_source\":{\"id\":\"f267e7d4-b1ea-4e33-b4cf-3489d430b6c4\",\"type\":\"ColumnDataSource\"},\"glyph\":{\"id\":\"34d66827-1573-4e1a-a501-2e42cb98d6cb\",\"type\":\"Line\"},\"hover_glyph\":null,\"nonselection_glyph\":{\"id\":\"9bc11859-c575-452d-af84-eb77c62a7e97\",\"type\":\"Line\"},\"selection_glyph\":null},\"id\":\"cde21dcc-78cc-48d3-aacb-271204293321\",\"type\":\"GlyphRenderer\"}],\"root_ids\":[\"0d7f0f7e-069b-49de-8425-6f104af71d2b\",\"bd581663-449e-4c34-b0cb-f0cee3ba0f0f\"]},\"title\":\"Bokeh Application\",\"version\":\"0.11.1\"}};\n",
       "            var render_items = [{\"docid\":\"afb9f501-c7c7-4592-a968-1c6b1bd5f265\",\"elementid\":\"6a43cdce-2195-4ec8-b796-3e00e6d78cfc\",\"modelid\":\"bd581663-449e-4c34-b0cb-f0cee3ba0f0f\",\"notebook_comms_target\":\"59f0edd0-ad57-4e35-b9bf-56eee0aae403\"}];\n",
       "            \n",
       "            Bokeh.embed.embed_items(docs_json, render_items);\n",
       "        });\n",
       "      },\n",
       "      function(Bokeh) {\n",
       "      }\n",
       "    ];\n",
       "  \n",
       "    function run_inline_js() {\n",
       "      for (var i = 0; i < inline_js.length; i++) {\n",
       "        inline_js[i](window.Bokeh);\n",
       "      }\n",
       "    }\n",
       "  \n",
       "    if (window._bokeh_is_loading === 0) {\n",
       "      console.log(\"Bokeh: BokehJS loaded, going straight to plotting\");\n",
       "      run_inline_js();\n",
       "    } else {\n",
       "      load_libs(js_urls, function() {\n",
       "        console.log(\"Bokeh: BokehJS plotting callback run at\", now());\n",
       "        run_inline_js();\n",
       "      });\n",
       "    }\n",
       "  }(this));\n",
       "</script>"
      ]
     },
     "metadata": {},
     "output_type": "display_data"
    },
    {
     "data": {
      "text/html": [
       "<p><code>&lt;Bokeh Notebook handle for <strong>In[8]</strong>&gt;</code></p>"
      ],
      "text/plain": [
       "<bokeh.io._CommsHandle at 0x108f48160>"
      ]
     },
     "execution_count": 8,
     "metadata": {},
     "output_type": "execute_result"
    }
   ],
   "source": [
    "output_notebook()\n",
    "q = figure(title=\"Euler method for Sinusoidal Derivative\", x_axis_label='t', y_axis_label='x')\n",
    "q.line(t, x, legend=\"Trajectory\", line_width=2)\n",
    "show(q)"
   ]
  },
  {
   "cell_type": "code",
   "execution_count": null,
   "metadata": {
    "collapsed": true
   },
   "outputs": [],
   "source": []
  }
 ],
 "metadata": {
  "kernelspec": {
   "display_name": "Python 3",
   "language": "python",
   "name": "python3"
  },
  "language_info": {
   "codemirror_mode": {
    "name": "ipython",
    "version": 3
   },
   "file_extension": ".py",
   "mimetype": "text/x-python",
   "name": "python",
   "nbconvert_exporter": "python",
   "pygments_lexer": "ipython3",
   "version": "3.4.3"
  }
 },
 "nbformat": 4,
 "nbformat_minor": 0
}
